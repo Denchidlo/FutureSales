{
 "cells": [
  {
   "cell_type": "code",
   "execution_count": 17,
   "source": [
    "## Version futuresales lib required = 0.2.0\n",
    "\n",
    "!pip install -i https://test.pypi.org/simple/ futuresales_denissimo==0.2.0\n",
    "# !pip install plotly==5.3.1\n",
    "# !pip install neptune-client\n",
    "# !pip install neptune-sklearn"
   ],
   "outputs": [
    {
     "output_type": "stream",
     "name": "stdout",
     "text": [
      "Looking in indexes: https://test.pypi.org/simple/\n",
      "Requirement already satisfied: futuresales_denissimo==0.1.14 in /home/denissimo/Repo/fs_project/env/lib/python3.8/site-packages (0.1.14)\n"
     ]
    }
   ],
   "metadata": {}
  },
  {
   "cell_type": "code",
   "execution_count": 18,
   "source": [
    "import numpy as np # linear algebra\n",
    "import pandas as pd # data processing, CSV file I/O (e.g. pd.read_csv)\n",
    "\n",
    "from tqdm._tqdm_notebook import tqdm_notebook\n",
    "tqdm_notebook.pandas()\n",
    "\n",
    "import futuresales as fs\n",
    "\n",
    "from futuresales.distribution import from_pickle, to_pickle\n",
    "from futuresales.utils import make_scaled, load_credentials\n",
    "from futuresales.validation import Validator, make_hpo_dataset, get_statistics\n",
    "\n",
    "from neptune.new.types import File"
   ],
   "outputs": [],
   "metadata": {}
  },
  {
   "cell_type": "markdown",
   "source": [
    "# Base neptune configuration"
   ],
   "metadata": {}
  },
  {
   "cell_type": "code",
   "execution_count": 19,
   "source": [
    "import neptune.new as neptune\n",
    "\n",
    "cred = load_credentials('../../credentials.json')['projects']['fs-results']\n",
    "\n",
    "# run = neptune.init(\n",
    "#     api_token=cred['api_token'],\n",
    "#     project=cred['project'],\n",
    "#     tags=['linear', 'baseline', 'boruta', 'one-spike'],\n",
    "# )  # your credentials"
   ],
   "outputs": [],
   "metadata": {}
  },
  {
   "cell_type": "markdown",
   "source": [
    "# Dataset preparation"
   ],
   "metadata": {}
  },
  {
   "cell_type": "code",
   "execution_count": 20,
   "source": [
    "task_df = {}\n",
    "\n",
    "task_df['test'] = pd.read_csv('../../tmp/task_df_test.csv')\n",
    "task_df['train'] = pd.read_csv('../../tmp/task_df_train.csv')\n",
    "task_df['idx'] = pd.read_csv('../../tmp/idx.csv')\n",
    "\n",
    "train = pd.read_csv('../../tmp/baseline_train_set.csv')\n",
    "test = pd.read_csv('../../tmp/baseline_test_set.csv')\n",
    "validation = pd.read_csv('../../tmp/baseline_validation_set.csv')\n",
    "\n",
    "selector = from_pickle('../../tmp/feat_selector.pkl')"
   ],
   "outputs": [
    {
     "output_type": "stream",
     "name": "stderr",
     "text": [
      "/home/denissimo/Repo/fs_project/env/lib/python3.8/site-packages/sklearn/base.py:310: UserWarning: Trying to unpickle estimator DecisionTreeRegressor from version 1.0 when using version 0.24.2. This might lead to breaking code or invalid results. Use at your own risk.\n",
      "  warnings.warn(\n",
      "/home/denissimo/Repo/fs_project/env/lib/python3.8/site-packages/sklearn/base.py:310: UserWarning: Trying to unpickle estimator RandomForestRegressor from version 1.0 when using version 0.24.2. This might lead to breaking code or invalid results. Use at your own risk.\n",
      "  warnings.warn(\n"
     ]
    }
   ],
   "metadata": {}
  },
  {
   "cell_type": "code",
   "execution_count": 21,
   "source": [
    "serieses = task_df['test'].groupby(['month_block', 'id']).item_cnt_day.sum().reset_index().set_index('id').index.value_counts()"
   ],
   "outputs": [],
   "metadata": {}
  },
  {
   "cell_type": "code",
   "execution_count": 22,
   "source": [
    "train_objs = serieses[serieses > 1].index"
   ],
   "outputs": [],
   "metadata": {}
  },
  {
   "cell_type": "code",
   "execution_count": 23,
   "source": [
    "train_x = train[train.id.isin(train_objs)].drop(['valid_target', 'target'], axis=1)\n",
    "train_y = train[train.id.isin(train_objs)].loc[:, ['target']]\n",
    "train_y_valid = train[train.id.isin(train_objs)].loc[:, ['valid_target']]\n",
    "\n",
    "test_x = test[test.id.isin(train_objs)].drop(['valid_target', 'target'], axis=1)\n",
    "test_y = test[test.id.isin(train_objs)].loc[:, ['target']]\n",
    "test_y_valid = test[test.id.isin(train_objs)].loc[:, ['valid_target']]\n",
    "\n",
    "validation_x = validation.drop(['valid_target', 'target'], axis=1)\n",
    "validation_y = validation.loc[:, ['target']]\n",
    "validation_y_valid = validation.loc[:, ['valid_target']]\n",
    "\n",
    "train_x = make_scaled(train_x).drop('id', axis=1).reset_index().rename({'index': 'id'}, axis=1).set_index('id')\n",
    "test_x = make_scaled(test_x).drop('id', axis=1).reset_index().rename({'index': 'id'}, axis=1).set_index('id')\n",
    "validation_x = make_scaled(validation_x).drop('id', axis=1).reset_index().rename({'index': 'id'}, axis=1).set_index('id')"
   ],
   "outputs": [],
   "metadata": {}
  },
  {
   "cell_type": "code",
   "execution_count": 24,
   "source": [
    "train_x = train_x.loc[:, selector.support_].reset_index().rename({'index': 'id'},axis=1).merge(task_df['idx'][['shop_id', 'item_id', 'id']], on='id').set_index('id')\n",
    "test_x = test_x.loc[:,selector.support_].reset_index().rename({'index': 'id'},axis=1).merge(task_df['idx'][['shop_id', 'item_id', 'id']], on='id').set_index('id')\n",
    "validation_x = validation_x.loc[:,selector.support_].reset_index().rename({'index': 'id'},axis=1).merge(task_df['idx'][['shop_id', 'item_id', 'id']], on='id').set_index('id')"
   ],
   "outputs": [],
   "metadata": {}
  },
  {
   "cell_type": "markdown",
   "source": [
    "# Model tuning"
   ],
   "metadata": {}
  },
  {
   "cell_type": "code",
   "execution_count": 25,
   "source": [
    "# define a search space\n",
    "from sklearn.linear_model import Ridge, LinearRegression, Lasso, ElasticNet\n",
    "import seaborn as sns\n",
    "from futuresales.utils import hyperopt_objective\n",
    "from hyperopt import hp\n",
    "from hyperopt import fmin, tpe, Trials\n",
    "\n",
    "searching_space = {\n",
    "    'alpha': hp.loguniform('alpha', 0, 25)\n",
    "}\n",
    "\n",
    "trials = Trials()\n",
    "ridge_obj = hyperopt_objective(\n",
    "    Ridge,\n",
    "    (train_x, train_y),\n",
    "    (test_x, test_y)\n",
    ")\n",
    "\n",
    "# ridge_obj({'alpha': 1e-7})\n",
    "\n",
    "# minimize the objective over the space\n",
    "hpo = trials.fmin(ridge_obj, searching_space, algo=tpe.suggest, max_evals=100)"
   ],
   "outputs": [],
   "metadata": {}
  },
  {
   "cell_type": "code",
   "execution_count": 27,
   "source": [
    "hpo_df, min_hyp = make_hpo_dataset(trials)"
   ],
   "outputs": [],
   "metadata": {}
  },
  {
   "cell_type": "code",
   "execution_count": 28,
   "source": [
    "hpo_df"
   ],
   "outputs": [
    {
     "output_type": "execute_result",
     "data": {
      "text/html": [
       "<div>\n",
       "<style scoped>\n",
       "    .dataframe tbody tr th:only-of-type {\n",
       "        vertical-align: middle;\n",
       "    }\n",
       "\n",
       "    .dataframe tbody tr th {\n",
       "        vertical-align: top;\n",
       "    }\n",
       "\n",
       "    .dataframe thead th {\n",
       "        text-align: right;\n",
       "    }\n",
       "</style>\n",
       "<table border=\"1\" class=\"dataframe\">\n",
       "  <thead>\n",
       "    <tr style=\"text-align: right;\">\n",
       "      <th></th>\n",
       "      <th>alpha</th>\n",
       "      <th>loss_type</th>\n",
       "      <th>loss</th>\n",
       "    </tr>\n",
       "  </thead>\n",
       "  <tbody>\n",
       "    <tr>\n",
       "      <th>0</th>\n",
       "      <td>1.862597e+06</td>\n",
       "      <td>test</td>\n",
       "      <td>5.644144</td>\n",
       "    </tr>\n",
       "    <tr>\n",
       "      <th>1</th>\n",
       "      <td>1.862597e+06</td>\n",
       "      <td>train</td>\n",
       "      <td>1.216892</td>\n",
       "    </tr>\n",
       "    <tr>\n",
       "      <th>2</th>\n",
       "      <td>4.720520e+10</td>\n",
       "      <td>test</td>\n",
       "      <td>5.890366</td>\n",
       "    </tr>\n",
       "    <tr>\n",
       "      <th>3</th>\n",
       "      <td>4.720520e+10</td>\n",
       "      <td>train</td>\n",
       "      <td>1.883267</td>\n",
       "    </tr>\n",
       "    <tr>\n",
       "      <th>4</th>\n",
       "      <td>3.026272e+04</td>\n",
       "      <td>test</td>\n",
       "      <td>5.517410</td>\n",
       "    </tr>\n",
       "    <tr>\n",
       "      <th>...</th>\n",
       "      <td>...</td>\n",
       "      <td>...</td>\n",
       "      <td>...</td>\n",
       "    </tr>\n",
       "    <tr>\n",
       "      <th>195</th>\n",
       "      <td>1.484377e+01</td>\n",
       "      <td>train</td>\n",
       "      <td>1.036967</td>\n",
       "    </tr>\n",
       "    <tr>\n",
       "      <th>196</th>\n",
       "      <td>1.660404e+02</td>\n",
       "      <td>test</td>\n",
       "      <td>5.500520</td>\n",
       "    </tr>\n",
       "    <tr>\n",
       "      <th>197</th>\n",
       "      <td>1.660404e+02</td>\n",
       "      <td>train</td>\n",
       "      <td>1.036969</td>\n",
       "    </tr>\n",
       "    <tr>\n",
       "      <th>198</th>\n",
       "      <td>3.886990e+02</td>\n",
       "      <td>test</td>\n",
       "      <td>5.500674</td>\n",
       "    </tr>\n",
       "    <tr>\n",
       "      <th>199</th>\n",
       "      <td>3.886990e+02</td>\n",
       "      <td>train</td>\n",
       "      <td>1.036979</td>\n",
       "    </tr>\n",
       "  </tbody>\n",
       "</table>\n",
       "<p>200 rows × 3 columns</p>\n",
       "</div>"
      ],
      "text/plain": [
       "            alpha loss_type      loss\n",
       "0    1.862597e+06      test  5.644144\n",
       "1    1.862597e+06     train  1.216892\n",
       "2    4.720520e+10      test  5.890366\n",
       "3    4.720520e+10     train  1.883267\n",
       "4    3.026272e+04      test  5.517410\n",
       "..            ...       ...       ...\n",
       "195  1.484377e+01     train  1.036967\n",
       "196  1.660404e+02      test  5.500520\n",
       "197  1.660404e+02     train  1.036969\n",
       "198  3.886990e+02      test  5.500674\n",
       "199  3.886990e+02     train  1.036979\n",
       "\n",
       "[200 rows x 3 columns]"
      ]
     },
     "metadata": {},
     "execution_count": 28
    }
   ],
   "metadata": {}
  },
  {
   "cell_type": "code",
   "execution_count": 29,
   "source": [
    "# run['hpo'] = {\n",
    "#     'min_params': hpo,\n",
    "#     'trials': File.as_html(hpo_df),\n",
    "#     'trials_pkl': File.as_pickle(hpo_df),\n",
    "#     'cross-dependency': File.as_image(sns.pairplot(data=hpo_df, hue='loss_type').figure)\n",
    "# }"
   ],
   "outputs": [],
   "metadata": {}
  },
  {
   "cell_type": "code",
   "execution_count": 30,
   "source": [
    "errors = {}"
   ],
   "outputs": [],
   "metadata": {}
  },
  {
   "cell_type": "code",
   "execution_count": 31,
   "source": [
    "assert False"
   ],
   "outputs": [
    {
     "output_type": "error",
     "ename": "AssertionError",
     "evalue": "",
     "traceback": [
      "\u001b[0;31m---------------------------------------------------------------------------\u001b[0m",
      "\u001b[0;31mAssertionError\u001b[0m                            Traceback (most recent call last)",
      "\u001b[0;32m/tmp/ipykernel_4066/2103537015.py\u001b[0m in \u001b[0;36m<module>\u001b[0;34m\u001b[0m\n\u001b[0;32m----> 1\u001b[0;31m \u001b[0;32massert\u001b[0m \u001b[0;32mFalse\u001b[0m\u001b[0;34m\u001b[0m\u001b[0;34m\u001b[0m\u001b[0m\n\u001b[0m",
      "\u001b[0;31mAssertionError\u001b[0m: "
     ]
    }
   ],
   "metadata": {}
  },
  {
   "cell_type": "code",
   "execution_count": null,
   "source": [
    "lin_validator = Validator(Ridge, **hpo)\n",
    "\n",
    "lin_validator.fit(test_x, test_y)\n",
    "errors['ridge'] = lin_validator.validate(validation_x, validation_y_valid)\n",
    "residulas = get_statistics(errors['ridge'])\n",
    "\n",
    "run['params'] = min_hyp\n",
    "\n",
    "run['score/rmse/test'] = errors['ridge'][0]\n",
    "run['score/rmse/train'] = errors['ridge'][1]\n",
    "run['model'] = 'Ridge'\n",
    "run['dump/residuals'].upload(File.as_pickle(residulas))\n",
    "run['dump/model'].upload(File.as_pickle(lin_validator))"
   ],
   "outputs": [],
   "metadata": {}
  },
  {
   "cell_type": "code",
   "execution_count": null,
   "source": [
    "import neptune.new.integrations.sklearn as npt_utils\n",
    "\n",
    "run['auto_model_summary'] = npt_utils.create_regressor_summary(\n",
    "    lin_validator.model, \n",
    "    train_x, \n",
    "    test_x, \n",
    "    train_y.to_numpy(), \n",
    "    test_y_valid.to_numpy())"
   ],
   "outputs": [
    {
     "output_type": "stream",
     "name": "stderr",
     "text": [
      "/home/denissimo/Repo/fs_project/env/lib/python3.8/site-packages/yellowbrick/model_selection/importances.py:194: YellowbrickWarning: detected multi-dimensional feature importances but stack=False, using mean to aggregate them.\n",
      "  warnings.warn(\n"
     ]
    },
    {
     "output_type": "stream",
     "name": "stdout",
     "text": [
      "Did not log prediction error chart. Error: y must be a (1,) dimensional array not (422577, 1)\n",
      "Did not log cooks distance chart. Error: shapes (422577,1) and (422577,1) not aligned: 1 (dim 1) != 422577 (dim 0)\n"
     ]
    },
    {
     "output_type": "display_data",
     "data": {
      "image/png": "[encoded data removed]",
      "text/plain": [
       "<Figure size 576x396 with 1 Axes>"
      ]
     },
     "metadata": {}
    },
    {
     "output_type": "display_data",
     "data": {
      "image/png": "[encoded data removed]",
      "text/plain": [
       "<Figure size 576x396 with 1 Axes>"
      ]
     },
     "metadata": {}
    }
   ],
   "metadata": {}
  },
  {
   "cell_type": "code",
   "execution_count": null,
   "source": [
    "run.stop()"
   ],
   "outputs": [],
   "metadata": {}
  }
 ],
 "metadata": {
  "orig_nbformat": 4,
  "language_info": {
   "name": "python",
   "version": "3.8.10",
   "mimetype": "text/x-python",
   "codemirror_mode": {
    "name": "ipython",
    "version": 3
   },
   "pygments_lexer": "ipython3",
   "nbconvert_exporter": "python",
   "file_extension": ".py"
  },
  "kernelspec": {
   "name": "python3",
   "display_name": "Python 3.8.10 64-bit ('env': venv)"
  },
  "interpreter": {
   "hash": "d6f0a83fd70573169f91d6afa8cd6daf12135fd479a43538d29ef02678dc9121"
  }
 },
 "nbformat": 4,
 "nbformat_minor": 2
}
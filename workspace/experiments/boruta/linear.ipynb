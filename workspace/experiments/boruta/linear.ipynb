{
 "cells": [
  {
   "cell_type": "code",
   "execution_count": 47,
   "metadata": {},
   "outputs": [
    {
     "name": "stdout",
     "output_type": "stream",
     "text": [
      "Looking in indexes: https://test.pypi.org/simple/\n",
      "Requirement already satisfied: futuresales_denissimo==0.1.14 in /home/denissimo/Repo/fs_project/env/lib/python3.8/site-packages (0.1.14)\n"
     ]
    }
   ],
   "source": [
    "## Version futuresales lib required = 0.1.15\n",
    "\n",
    "!pip install -i https://test.pypi.org/simple/ futuresales_denissimo==0.1.14\n",
    "# !pip install plotly==5.3.1\n",
    "# !pip install neptune-client\n",
    "# !pip install neptune-sklearn"
   ]
  },
  {
   "cell_type": "code",
   "execution_count": 1,
   "metadata": {},
   "outputs": [
    {
     "name": "stderr",
     "output_type": "stream",
     "text": [
      "/tmp/ipykernel_42024/1320099259.py:4: TqdmDeprecationWarning: This function will be removed in tqdm==5.0.0\n",
      "Please use `tqdm.notebook.*` instead of `tqdm._tqdm_notebook.*`\n",
      "  from tqdm._tqdm_notebook import tqdm_notebook\n"
     ]
    }
   ],
   "source": [
    "import numpy as np # linear algebra\n",
    "import pandas as pd # data processing, CSV file I/O (e.g. pd.read_csv)\n",
    "\n",
    "from tqdm._tqdm_notebook import tqdm_notebook\n",
    "tqdm_notebook.pandas()\n",
    "\n",
    "import futuresales as fs\n",
    "\n",
    "from futuresales.distribution import from_pickle, to_pickle\n",
    "from futuresales.utils import make_scaled, load_credentials\n",
    "from futuresales.validation import Validator, make_hpo_dataset, get_statistics\n",
    "\n",
    "from neptune.new.types import File"
   ]
  },
  {
   "cell_type": "markdown",
   "metadata": {},
   "source": [
    "# Base neptune configuration"
   ]
  },
  {
   "cell_type": "code",
   "execution_count": 2,
   "metadata": {},
   "outputs": [
    {
     "name": "stderr",
     "output_type": "stream",
     "text": [
      "Info (NVML): Driver Not Loaded. GPU usage metrics may not be reported. For more information, see https://docs-legacy.neptune.ai/logging-and-managing-experiment-results/logging-experiment-data.html#hardware-consumption \n"
     ]
    },
    {
     "name": "stdout",
     "output_type": "stream",
     "text": [
      "https://app.neptune.ai/denissimo/FS-Results/e/FSRES-20\n",
      "Remember to stop your run once you’ve finished logging your metadata (https://docs.neptune.ai/api-reference/run#stop). It will be stopped automatically only when the notebook kernel/interactive console is terminated.\n"
     ]
    }
   ],
   "source": [
    "import neptune.new as neptune\n",
    "\n",
    "cred = load_credentials('../../credentials.json')['projects']['fs-results']\n",
    "\n",
    "run = neptune.init(\n",
    "    api_token=cred['api_token'],\n",
    "    project=cred['project'],\n",
    "    tags=['linear', 'baseline', 'boruta'],\n",
    ")  # your credentials"
   ]
  },
  {
   "cell_type": "markdown",
   "metadata": {},
   "source": [
    "# Dataset preparation"
   ]
  },
  {
   "cell_type": "code",
   "execution_count": 3,
   "metadata": {},
   "outputs": [
    {
     "name": "stderr",
     "output_type": "stream",
     "text": [
      "/home/denissimo/Repo/fs_project/env/lib/python3.8/site-packages/sklearn/base.py:310: UserWarning: Trying to unpickle estimator DecisionTreeRegressor from version 1.0 when using version 0.24.2. This might lead to breaking code or invalid results. Use at your own risk.\n",
      "  warnings.warn(\n",
      "/home/denissimo/Repo/fs_project/env/lib/python3.8/site-packages/sklearn/base.py:310: UserWarning: Trying to unpickle estimator RandomForestRegressor from version 1.0 when using version 0.24.2. This might lead to breaking code or invalid results. Use at your own risk.\n",
      "  warnings.warn(\n"
     ]
    }
   ],
   "source": [
    "task_df = {}\n",
    "\n",
    "task_df['test'] = pd.read_csv('../../tmp/task_df_test.csv')\n",
    "task_df['train'] = pd.read_csv('../../tmp/task_df_train.csv')\n",
    "task_df['idx'] = pd.read_csv('../../tmp/idx.csv')\n",
    "\n",
    "train = pd.read_csv('../../tmp/baseline_train_set.csv')\n",
    "test = pd.read_csv('../../tmp/baseline_test_set.csv')\n",
    "validation = pd.read_csv('../../tmp/baseline_validation_set.csv')\n",
    "\n",
    "selector = from_pickle('../../tmp/feat_selector.pkl')"
   ]
  },
  {
   "cell_type": "code",
   "execution_count": 4,
   "metadata": {},
   "outputs": [],
   "source": [
    "train_x = train.drop(['valid_target', 'target'], axis=1)\n",
    "train_y = train.loc[:, ['target']]\n",
    "train_y_valid = train.loc[:, ['valid_target']]\n",
    "\n",
    "test_x = test.drop(['valid_target', 'target'], axis=1)\n",
    "test_y = test.loc[:, ['target']]\n",
    "test_y_valid = test.loc[:, ['valid_target']]\n",
    "\n",
    "validation_x = validation.drop(['valid_target', 'target'], axis=1)\n",
    "validation_y = validation.loc[:, ['target']]\n",
    "validation_y_valid = validation.loc[:, ['valid_target']]\n",
    "\n",
    "train_x = make_scaled(train_x).drop('id', axis=1).reset_index().rename({'index': 'id'}, axis=1).set_index('id')\n",
    "test_x = make_scaled(test_x).drop('id', axis=1).reset_index().rename({'index': 'id'}, axis=1).set_index('id')\n",
    "validation_x = make_scaled(validation_x).drop('id', axis=1).reset_index().rename({'index': 'id'}, axis=1).set_index('id')"
   ]
  },
  {
   "cell_type": "code",
   "execution_count": 5,
   "metadata": {},
   "outputs": [],
   "source": [
    "train_x = train_x.loc[:, selector.support_].reset_index().rename({'index': 'id'},axis=1).merge(task_df['idx'][['shop_id', 'item_id', 'id']], on='id').set_index('id')\n",
    "test_x = test_x.loc[:,selector.support_].reset_index().rename({'index': 'id'},axis=1).merge(task_df['idx'][['shop_id', 'item_id', 'id']], on='id').set_index('id')\n",
    "validation_x = validation_x.loc[:,selector.support_].reset_index().rename({'index': 'id'},axis=1).merge(task_df['idx'][['shop_id', 'item_id', 'id']], on='id').set_index('id')"
   ]
  },
  {
   "cell_type": "markdown",
   "metadata": {},
   "source": [
    "# Model tuning"
   ]
  },
  {
   "cell_type": "code",
   "execution_count": 6,
   "metadata": {},
   "outputs": [],
   "source": [
    "# define a search space\n",
    "from sklearn.linear_model import Ridge, LinearRegression, Lasso, ElasticNet\n",
    "import seaborn as sns\n",
    "from futuresales.utils import hyperopt_objective\n",
    "from hyperopt import hp\n",
    "from hyperopt import fmin, tpe, Trials\n",
    "\n",
    "searching_space = {\n",
    "    'alpha': hp.loguniform('alpha', 0, 25)\n",
    "}\n",
    "\n",
    "trials = Trials()\n",
    "ridge_obj = hyperopt_objective(\n",
    "    Ridge,\n",
    "    (train_x, train_y),\n",
    "    (test_x, test_y)\n",
    ")\n",
    "\n",
    "# ridge_obj({'alpha': 1e-7})\n",
    "\n",
    "# minimize the objective over the space\n",
    "hpo = trials.fmin(ridge_obj, searching_space, algo=tpe.suggest, max_evals=100)"
   ]
  },
  {
   "cell_type": "code",
   "execution_count": 13,
   "metadata": {},
   "outputs": [],
   "source": [
    "def _make_hpo_dataset(trials):\n",
    "    keys = trials.results[0]['other_stuff']['kwargs'].keys()\n",
    "    df = pd.DataFrame({\n",
    "        'test': [el['loss'] for el in trials.results],\n",
    "        'train': [el['other_stuff']['train_rmse'] for el in trials.results],\n",
    "        **{key: [el['other_stuff']['kwargs'][key] for el in trials.results] for key in list(keys)}\n",
    "    })\n",
    "\n",
    "    min_hyp = df.iloc[df.test.idxmin()]\n",
    "    df = df.set_index(list(keys)).stack().reset_index().rename({\n",
    "        0: 'loss',\n",
    "        f'level_{len(list(keys))}': 'loss_type'\n",
    "    }, axis=1)\n",
    "    df['loss'] = abs(df['loss'])\n",
    "    return df, min_hyp"
   ]
  },
  {
   "cell_type": "code",
   "execution_count": 14,
   "metadata": {},
   "outputs": [],
   "source": [
    "hpo_df, min_hyp = _make_hpo_dataset(trials)"
   ]
  },
  {
   "cell_type": "code",
   "execution_count": 15,
   "metadata": {},
   "outputs": [
    {
     "data": {
      "text/html": [
       "<div>\n",
       "<style scoped>\n",
       "    .dataframe tbody tr th:only-of-type {\n",
       "        vertical-align: middle;\n",
       "    }\n",
       "\n",
       "    .dataframe tbody tr th {\n",
       "        vertical-align: top;\n",
       "    }\n",
       "\n",
       "    .dataframe thead th {\n",
       "        text-align: right;\n",
       "    }\n",
       "</style>\n",
       "<table border=\"1\" class=\"dataframe\">\n",
       "  <thead>\n",
       "    <tr style=\"text-align: right;\">\n",
       "      <th></th>\n",
       "      <th>alpha</th>\n",
       "      <th>loss_type</th>\n",
       "      <th>loss</th>\n",
       "    </tr>\n",
       "  </thead>\n",
       "  <tbody>\n",
       "    <tr>\n",
       "      <th>0</th>\n",
       "      <td>5.566299e+02</td>\n",
       "      <td>test</td>\n",
       "      <td>4.449510</td>\n",
       "    </tr>\n",
       "    <tr>\n",
       "      <th>1</th>\n",
       "      <td>5.566299e+02</td>\n",
       "      <td>train</td>\n",
       "      <td>0.846544</td>\n",
       "    </tr>\n",
       "    <tr>\n",
       "      <th>2</th>\n",
       "      <td>8.387074e+03</td>\n",
       "      <td>test</td>\n",
       "      <td>4.452287</td>\n",
       "    </tr>\n",
       "    <tr>\n",
       "      <th>3</th>\n",
       "      <td>8.387074e+03</td>\n",
       "      <td>train</td>\n",
       "      <td>0.847374</td>\n",
       "    </tr>\n",
       "    <tr>\n",
       "      <th>4</th>\n",
       "      <td>2.155288e+07</td>\n",
       "      <td>test</td>\n",
       "      <td>4.689096</td>\n",
       "    </tr>\n",
       "    <tr>\n",
       "      <th>...</th>\n",
       "      <td>...</td>\n",
       "      <td>...</td>\n",
       "      <td>...</td>\n",
       "    </tr>\n",
       "    <tr>\n",
       "      <th>195</th>\n",
       "      <td>1.666205e+04</td>\n",
       "      <td>train</td>\n",
       "      <td>0.848556</td>\n",
       "    </tr>\n",
       "    <tr>\n",
       "      <th>196</th>\n",
       "      <td>3.299259e+07</td>\n",
       "      <td>test</td>\n",
       "      <td>4.709743</td>\n",
       "    </tr>\n",
       "    <tr>\n",
       "      <th>197</th>\n",
       "      <td>3.299259e+07</td>\n",
       "      <td>train</td>\n",
       "      <td>1.385908</td>\n",
       "    </tr>\n",
       "    <tr>\n",
       "      <th>198</th>\n",
       "      <td>3.305811e+01</td>\n",
       "      <td>test</td>\n",
       "      <td>4.449334</td>\n",
       "    </tr>\n",
       "    <tr>\n",
       "      <th>199</th>\n",
       "      <td>3.305811e+01</td>\n",
       "      <td>train</td>\n",
       "      <td>0.846535</td>\n",
       "    </tr>\n",
       "  </tbody>\n",
       "</table>\n",
       "<p>200 rows × 3 columns</p>\n",
       "</div>"
      ],
      "text/plain": [
       "            alpha loss_type      loss\n",
       "0    5.566299e+02      test  4.449510\n",
       "1    5.566299e+02     train  0.846544\n",
       "2    8.387074e+03      test  4.452287\n",
       "3    8.387074e+03     train  0.847374\n",
       "4    2.155288e+07      test  4.689096\n",
       "..            ...       ...       ...\n",
       "195  1.666205e+04     train  0.848556\n",
       "196  3.299259e+07      test  4.709743\n",
       "197  3.299259e+07     train  1.385908\n",
       "198  3.305811e+01      test  4.449334\n",
       "199  3.305811e+01     train  0.846535\n",
       "\n",
       "[200 rows x 3 columns]"
      ]
     },
     "execution_count": 15,
     "metadata": {},
     "output_type": "execute_result"
    }
   ],
   "source": [
    "hpo_df"
   ]
  },
  {
   "cell_type": "code",
   "execution_count": 21,
   "metadata": {},
   "outputs": [
    {
     "data": {
      "image/png": "[encoded data removed]",
      "text/plain": [
       "<Figure size 419.375x360 with 6 Axes>"
      ]
     },
     "metadata": {
      "needs_background": "light"
     },
     "output_type": "display_data"
    }
   ],
   "source": [
    "run['hpo'] = {\n",
    "    'min_params': hpo,\n",
    "    'trials': File.as_html(hpo_df),\n",
    "    'trials_pkl': File.as_pickle(hpo_df),\n",
    "    'cross-dependency': File.as_image(sns.pairplot(data=hpo_df, hue='loss_type').figure)\n",
    "}"
   ]
  },
  {
   "cell_type": "code",
   "execution_count": 22,
   "metadata": {},
   "outputs": [],
   "source": [
    "errors = {}"
   ]
  },
  {
   "cell_type": "code",
   "execution_count": 23,
   "metadata": {},
   "outputs": [],
   "source": [
    "lin_validator = Validator(Ridge, **hpo)\n",
    "\n",
    "lin_validator.fit(test_x, test_y)\n",
    "errors['ridge'] = lin_validator.validate(validation_x, validation_y_valid)\n",
    "residulas = get_statistics(errors['ridge'])\n",
    "\n",
    "run['params'] = min_hyp\n",
    "\n",
    "run['score/rmse/test'] = errors['ridge'][0]\n",
    "run['score/rmse/train'] = errors['ridge'][1]\n",
    "run['model'] = 'Ridge'\n",
    "run['dump/residuals'].upload(File.as_pickle(residulas))\n",
    "run['dump/model'].upload(File.as_pickle(lin_validator))"
   ]
  },
  {
   "cell_type": "code",
   "execution_count": null,
   "metadata": {},
   "outputs": [],
   "source": [
    "lin_validator = Validator(Ridge, **hpo)\n",
    "\n",
    "lin_validator.fit(test_x, test_y)\n",
    "\n",
    "some = pd.Series(lin_validator.model.predict(validation_x).transpose(), index = validation_x.index)\n",
    "some.loc[some < 0] = 0\n",
    "\n",
    "validation_scheme = pd.DataFrame(validation_y_valid)\n",
    "validation_scheme['predicted'] = some\n",
    "validation_scheme.fillna(0, inplace=True)\n",
    "validation_scheme.loc[:,['valid_target']]\n",
    "\n",
    "residulas = get_statistics(\n",
    "    (0, \n",
    "    0, \n",
    "    validation_scheme.predicted,\n",
    "    validation_scheme.loc[:,['valid_target']]))\n",
    "\n",
    "run['params'] = hpo\n",
    "\n",
    "from sklearn.metrics import mean_squared_error as mse\n",
    "\n",
    "run['score/rmse/test'] = np.sqrt(mse(validation_scheme.predicted, validation_scheme.valid_target))\n",
    "run['score/rmse/train'] = np.sqrt(xgb_validator._train_err)\n",
    "run['model'] = 'Ridge'\n",
    "run['dump/residuals'].upload(File.as_pickle(residulas))\n",
    "run['dump/model'].upload(File.as_pickle(lin_validator.model))"
   ]
  },
  {
   "cell_type": "code",
   "execution_count": 24,
   "metadata": {},
   "outputs": [
    {
     "name": "stderr",
     "output_type": "stream",
     "text": [
      "/home/denissimo/Repo/fs_project/env/lib/python3.8/site-packages/yellowbrick/model_selection/importances.py:194: YellowbrickWarning: detected multi-dimensional feature importances but stack=False, using mean to aggregate them.\n",
      "  warnings.warn(\n"
     ]
    },
    {
     "name": "stdout",
     "output_type": "stream",
     "text": [
      "Did not log prediction error chart. Error: y must be a (1,) dimensional array not (422577, 1)\n",
      "Did not log cooks distance chart. Error: shapes (422577,1) and (422577,1) not aligned: 1 (dim 1) != 422577 (dim 0)\n"
     ]
    },
    {
     "data": {
      "image/png": "[encoded data removed]",
      "text/plain": [
       "<Figure size 576x396 with 1 Axes>"
      ]
     },
     "metadata": {},
     "output_type": "display_data"
    },
    {
     "data": {
      "image/png": "[encoded data removed]",
      "text/plain": [
       "<Figure size 576x396 with 1 Axes>"
      ]
     },
     "metadata": {},
     "output_type": "display_data"
    }
   ],
   "source": [
    "import neptune.new.integrations.sklearn as npt_utils\n",
    "\n",
    "run['auto_model_summary'] = npt_utils.create_regressor_summary(\n",
    "    lin_validator.model, \n",
    "    train_x, \n",
    "    test_x, \n",
    "    train_y.to_numpy(), \n",
    "    test_y_valid.to_numpy())"
   ]
  },
  {
   "cell_type": "code",
   "execution_count": 26,
   "metadata": {},
   "outputs": [],
   "source": [
    "run.stop()"
   ]
  }
 ],
 "metadata": {
  "interpreter": {
   "hash": "d6f0a83fd70573169f91d6afa8cd6daf12135fd479a43538d29ef02678dc9121"
  },
  "kernelspec": {
   "display_name": "Python 3.8.10 64-bit ('env': venv)",
   "name": "python3"
  },
  "language_info": {
   "codemirror_mode": {
    "name": "ipython",
    "version": 3
   },
   "file_extension": ".py",
   "mimetype": "text/x-python",
   "name": "python",
   "nbconvert_exporter": "python",
   "pygments_lexer": "ipython3",
   "version": "3.8.10"
  },
  "orig_nbformat": 4
 },
 "nbformat": 4,
 "nbformat_minor": 2
}

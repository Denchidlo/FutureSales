{
 "cells": [
  {
   "cell_type": "code",
   "execution_count": 1,
   "source": [
    "## Version futuresales lib required = 0.1.8\n",
    "\n",
    "# !pip install -i https://test.pypi.org/simple/ futuresales_denissimo==0.1.8\n",
    "# !pip install plotly==5.3.1\n",
    "# !pip install neptune-client\n",
    "# !pip install neptune-sklearn"
   ],
   "outputs": [],
   "metadata": {}
  },
  {
   "cell_type": "code",
   "execution_count": 2,
   "source": [
    "import numpy as np # linear algebra\n",
    "import pandas as pd # data processing, CSV file I/O (e.g. pd.read_csv)\n",
    "\n",
    "from tqdm._tqdm_notebook import tqdm_notebook\n",
    "tqdm_notebook.pandas()\n",
    "\n",
    "import futuresales as fs\n",
    "\n",
    "from futuresales.distribution import from_pickle, to_pickle\n",
    "from futuresales.utils import make_scaled, load_credentials\n",
    "from futuresales.validation import Validator\n",
    "\n",
    "from neptune.new.types import File"
   ],
   "outputs": [
    {
     "output_type": "stream",
     "name": "stderr",
     "text": [
      "/tmp/ipykernel_19613/2636906969.py:4: TqdmDeprecationWarning: This function will be removed in tqdm==5.0.0\n",
      "Please use `tqdm.notebook.*` instead of `tqdm._tqdm_notebook.*`\n",
      "  from tqdm._tqdm_notebook import tqdm_notebook\n"
     ]
    }
   ],
   "metadata": {}
  },
  {
   "cell_type": "code",
   "execution_count": 3,
   "source": [
    "def get_statistics(report):\n",
    "    stat = report[3]\n",
    "    stat['residuals'] = report[2].transpose()[0] - report[3].valid_target\n",
    "    stat['predicted'] = report[2]\n",
    "    stat['object_id'] = report[3].index\n",
    "    return stat"
   ],
   "outputs": [],
   "metadata": {}
  },
  {
   "cell_type": "markdown",
   "source": [
    "# Base neptune configuration"
   ],
   "metadata": {}
  },
  {
   "cell_type": "code",
   "execution_count": 4,
   "source": [
    "import neptune.new as neptune\n",
    "\n",
    "cred = load_credentials('../../credentials.json')['projects']['fs-results']\n",
    "\n",
    "run = neptune.init(\n",
    "    api_token=cred['api_token'],\n",
    "    project=cred['project'],\n",
    "    tags=['linear', 'baseline']\n",
    ")  # your credentials"
   ],
   "outputs": [
    {
     "output_type": "stream",
     "name": "stderr",
     "text": [
      "Info (NVML): Driver Not Loaded. GPU usage metrics may not be reported. For more information, see https://docs-legacy.neptune.ai/logging-and-managing-experiment-results/logging-experiment-data.html#hardware-consumption \n"
     ]
    },
    {
     "output_type": "stream",
     "name": "stdout",
     "text": [
      "https://app.neptune.ai/denissimo/FS-Results/e/FSRES-17\n",
      "Remember to stop your run once you’ve finished logging your metadata (https://docs.neptune.ai/api-reference/run#stop). It will be stopped automatically only when the notebook kernel/interactive console is terminated.\n"
     ]
    }
   ],
   "metadata": {}
  },
  {
   "cell_type": "markdown",
   "source": [
    "# Dataset preparation"
   ],
   "metadata": {}
  },
  {
   "cell_type": "code",
   "execution_count": 5,
   "source": [
    "task_df = {}\n",
    "\n",
    "task_df['test'] = pd.read_csv('../../tmp/task_df_test.csv')\n",
    "task_df['train'] = pd.read_csv('../../tmp/task_df_train.csv')\n",
    "task_df['idx'] = pd.read_csv('../../tmp/idx.csv')\n",
    "\n",
    "train = pd.read_csv('../../tmp/baseline_train_set.csv')\n",
    "test = pd.read_csv('../../tmp/baseline_test_set.csv')\n",
    "validation = pd.read_csv('../../tmp/baseline_validation_set.csv')"
   ],
   "outputs": [],
   "metadata": {}
  },
  {
   "cell_type": "code",
   "execution_count": 6,
   "source": [
    "train_x = train.drop(['valid_target', 'target'], axis=1)\n",
    "train_y = train.loc[:, ['target']]\n",
    "train_y_valid = train.loc[:, ['valid_target']]\n",
    "\n",
    "test_x = test.drop(['valid_target', 'target'], axis=1)\n",
    "test_y = test.loc[:, ['target']]\n",
    "test_y_valid = test.loc[:, ['valid_target']]\n",
    "\n",
    "validation_x = validation.drop(['valid_target', 'target'], axis=1)\n",
    "validation_y = validation.loc[:, ['target']]\n",
    "validation_y_valid = validation.loc[:, ['valid_target']]\n",
    "\n",
    "train_x = make_scaled(train_x).drop('id', axis=1).reset_index().rename({'index': 'id'}, axis=1).set_index('id')\n",
    "test_x = make_scaled(test_x).drop('id', axis=1).reset_index().rename({'index': 'id'}, axis=1).set_index('id')\n",
    "validation_x = make_scaled(validation_x).drop('id', axis=1).reset_index().rename({'index': 'id'}, axis=1).set_index('id')"
   ],
   "outputs": [],
   "metadata": {}
  },
  {
   "cell_type": "markdown",
   "source": [
    "# Model tuning"
   ],
   "metadata": {}
  },
  {
   "cell_type": "code",
   "execution_count": 7,
   "source": [
    "from sklearn.linear_model import Ridge, LinearRegression, Lasso, ElasticNet\n",
    "import seaborn as sns\n",
    "\n",
    "\n",
    "err = None\n",
    "_list = [[], [], []]\n",
    "\n",
    "for log_alpha in range(-12, 12):\n",
    "    lin_validator = Validator(Ridge, alpha=10**log_alpha)\n",
    "\n",
    "    lin_validator.fit(train_x, train_y)\n",
    "    err = lin_validator.validate(test_x, test_y_valid)\n",
    "    _list[0].append(log_alpha)\n",
    "    _list[1].append(err[0])\n",
    "    _list[2].append(err[1])"
   ],
   "outputs": [],
   "metadata": {}
  },
  {
   "cell_type": "code",
   "execution_count": 8,
   "source": [
    "alpha_reg = pd.DataFrame(_list).transpose().rename(\n",
    "    {\n",
    "        0: 'log10_alpha',\n",
    "        1: 'test',\n",
    "        2: 'train'\n",
    "    },\n",
    "    axis=1\n",
    ").set_index('log10_alpha').stack().reset_index().rename({'level_1': 'type', 0: 'rmse'}, axis=1)\n",
    "hpo_fig = sns.lineplot(data=alpha_reg, x='log10_alpha', y='rmse', hue='type').figure\n",
    "run['plots/reg'].upload(File.as_image(hpo_fig))"
   ],
   "outputs": [
    {
     "output_type": "display_data",
     "data": {
      "image/png": "[encoded data removed]",
      "text/plain": [
       "<Figure size 432x288 with 1 Axes>"
      ]
     },
     "metadata": {
      "needs_background": "light"
     }
    }
   ],
   "metadata": {}
  },
  {
   "cell_type": "code",
   "execution_count": 9,
   "source": [
    "errors = {}"
   ],
   "outputs": [],
   "metadata": {}
  },
  {
   "cell_type": "code",
   "execution_count": 10,
   "source": [
    "lin_validator = Validator(Ridge, alpha=10**4)\n",
    "\n",
    "lin_validator.fit(test_x, test_y)\n",
    "errors['ridge'] = lin_validator.validate(validation_x, validation_y_valid)\n",
    "residulas = get_statistics(errors['ridge'])\n",
    "\n",
    "run['params'] = {\n",
    "    'alpha': 10000\n",
    "}\n",
    "\n",
    "run['score/rmse/test'] = errors['ridge'][0]\n",
    "run['score/rmse/train'] = errors['ridge'][1]\n",
    "run['model'] = 'Ridge'\n",
    "run['dump/residuals'].upload(File.as_pickle(residulas))\n",
    "run['dump/model'].upload(File.as_pickle(lin_validator))"
   ],
   "outputs": [],
   "metadata": {}
  },
  {
   "cell_type": "code",
   "execution_count": 11,
   "source": [
    "import neptune.new.integrations.sklearn as npt_utils\n",
    "\n",
    "run['auto_model_summary'] = npt_utils.create_regressor_summary(\n",
    "    lin_validator.model, \n",
    "    train_x, \n",
    "    test_x, \n",
    "    train_y.to_numpy(), \n",
    "    test_y_valid.to_numpy())"
   ],
   "outputs": [
    {
     "output_type": "stream",
     "name": "stderr",
     "text": [
      "/home/denissimo/Repo/fs_project/env/lib/python3.8/site-packages/yellowbrick/model_selection/importances.py:194: YellowbrickWarning: detected multi-dimensional feature importances but stack=False, using mean to aggregate them.\n",
      "  warnings.warn(\n"
     ]
    },
    {
     "output_type": "stream",
     "name": "stdout",
     "text": [
      "Did not log prediction error chart. Error: y must be a (1,) dimensional array not (422577, 1)\n",
      "Did not log cooks distance chart. Error: shapes (422577,1) and (422577,1) not aligned: 1 (dim 1) != 422577 (dim 0)\n"
     ]
    },
    {
     "output_type": "display_data",
     "data": {
      "image/png": "[encoded data removed]",
      "text/plain": [
       "<Figure size 576x396 with 1 Axes>"
      ]
     },
     "metadata": {}
    },
    {
     "output_type": "display_data",
     "data": {
      "image/png": "[encoded data removed]",
      "text/plain": [
       "<Figure size 576x396 with 1 Axes>"
      ]
     },
     "metadata": {}
    }
   ],
   "metadata": {}
  },
  {
   "cell_type": "code",
   "execution_count": 12,
   "source": [
    "run.stop()"
   ],
   "outputs": [
    {
     "output_type": "stream",
     "name": "stdout",
     "text": [
      "Shutting down background jobs, please wait a moment...\n",
      "Done!\n"
     ]
    },
    {
     "output_type": "stream",
     "name": "stderr",
     "text": [
      "Waiting for the remaining 21 operations to synchronize with Neptune. Do not kill this process.\n"
     ]
    },
    {
     "output_type": "stream",
     "name": "stdout",
     "text": [
      "All 21 operations synced, thanks for waiting!\n"
     ]
    }
   ],
   "metadata": {}
  }
 ],
 "metadata": {
  "orig_nbformat": 4,
  "language_info": {
   "name": "python",
   "version": "3.8.10",
   "mimetype": "text/x-python",
   "codemirror_mode": {
    "name": "ipython",
    "version": 3
   },
   "pygments_lexer": "ipython3",
   "nbconvert_exporter": "python",
   "file_extension": ".py"
  },
  "kernelspec": {
   "name": "python3",
   "display_name": "Python 3.8.10 64-bit ('env': venv)"
  },
  "interpreter": {
   "hash": "d6f0a83fd70573169f91d6afa8cd6daf12135fd479a43538d29ef02678dc9121"
  }
 },
 "nbformat": 4,
 "nbformat_minor": 2
}
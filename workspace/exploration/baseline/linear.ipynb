{
 "cells": [
  {
   "cell_type": "code",
   "execution_count": 1,
   "source": [
    "## Version futuresales lib required = 0.1.11\n",
    "\n",
    "!pip install -i https://test.pypi.org/simple/ futuresales_denissimo==0.1.11\n",
    "# !pip install plotly==5.3.1\n",
    "# !pip install neptune-client\n",
    "# !pip install neptune-sklearn"
   ],
   "outputs": [
    {
     "output_type": "stream",
     "name": "stdout",
     "text": [
      "Looking in indexes: https://test.pypi.org/simple/\n",
      "Requirement already satisfied: futuresales_denissimo==0.1.10 in /home/denissimo/Repo/fs_project/env/lib/python3.8/site-packages (0.1.10)\n"
     ]
    }
   ],
   "metadata": {}
  },
  {
   "cell_type": "code",
   "execution_count": 2,
   "source": [
    "import numpy as np # linear algebra\n",
    "import pandas as pd # data processing, CSV file I/O (e.g. pd.read_csv)\n",
    "\n",
    "from tqdm._tqdm_notebook import tqdm_notebook\n",
    "tqdm_notebook.pandas()\n",
    "\n",
    "import futuresales as fs\n",
    "\n",
    "from futuresales.distribution import from_pickle, to_pickle\n",
    "from futuresales.utils import make_scaled, load_credentials\n",
    "from futuresales.validation import Validator, causation_1_percent\n",
    "from neptune.new.types import File\n",
    "\n",
    "import seaborn as sns"
   ],
   "outputs": [
    {
     "output_type": "stream",
     "name": "stderr",
     "text": [
      "/tmp/ipykernel_20492/1267431409.py:4: TqdmDeprecationWarning: This function will be removed in tqdm==5.0.0\n",
      "Please use `tqdm.notebook.*` instead of `tqdm._tqdm_notebook.*`\n",
      "  from tqdm._tqdm_notebook import tqdm_notebook\n"
     ]
    }
   ],
   "metadata": {}
  },
  {
   "cell_type": "code",
   "execution_count": 3,
   "source": [
    "RUN_NAME = 'FSRES-17'"
   ],
   "outputs": [],
   "metadata": {}
  },
  {
   "cell_type": "code",
   "execution_count": 4,
   "source": [
    "import neptune.new as neptune\n",
    "\n",
    "cred = load_credentials('../../credentials.json')['projects']['fs-results']\n",
    "\n",
    "run = neptune.init(\n",
    "    api_token=cred['api_token'],\n",
    "    project=cred['project'],\n",
    "    run=RUN_NAME\n",
    ")  # your credentials"
   ],
   "outputs": [
    {
     "output_type": "stream",
     "name": "stderr",
     "text": [
      "Info (NVML): Driver Not Loaded. GPU usage metrics may not be reported. For more information, see https://docs-legacy.neptune.ai/logging-and-managing-experiment-results/logging-experiment-data.html#hardware-consumption \n"
     ]
    },
    {
     "output_type": "stream",
     "name": "stdout",
     "text": [
      "https://app.neptune.ai/denissimo/FS-Results/e/FSRES-17\n",
      "Remember to stop your run once you’ve finished logging your metadata (https://docs.neptune.ai/api-reference/run#stop). It will be stopped automatically only when the notebook kernel/interactive console is terminated.\n"
     ]
    }
   ],
   "metadata": {}
  },
  {
   "cell_type": "code",
   "execution_count": 16,
   "source": [
    "task_df = {}\n",
    "\n",
    "idx = pd.read_csv('../../tmp/idx.csv').rename({'id': 'object_id'}, axis=1)\n",
    "\n",
    "task_df['test'] = pd.read_csv('../../tmp/task_df_test.csv').drop('Unnamed: 0', axis=1)\n",
    "task_df['dynamic'] = from_pickle('../../tmp/id_sales_test.pkl')"
   ],
   "outputs": [],
   "metadata": {}
  },
  {
   "cell_type": "code",
   "execution_count": 6,
   "source": [
    "run['dump/residuals'].download()\n",
    "report = from_pickle('./residuals.pkl')\n",
    "report"
   ],
   "outputs": [
    {
     "output_type": "execute_result",
     "data": {
      "text/html": [
       "<div>\n",
       "<style scoped>\n",
       "    .dataframe tbody tr th:only-of-type {\n",
       "        vertical-align: middle;\n",
       "    }\n",
       "\n",
       "    .dataframe tbody tr th {\n",
       "        vertical-align: top;\n",
       "    }\n",
       "\n",
       "    .dataframe thead th {\n",
       "        text-align: right;\n",
       "    }\n",
       "</style>\n",
       "<table border=\"1\" class=\"dataframe\">\n",
       "  <thead>\n",
       "    <tr style=\"text-align: right;\">\n",
       "      <th></th>\n",
       "      <th>valid_target</th>\n",
       "      <th>residuals</th>\n",
       "      <th>predicted</th>\n",
       "      <th>object_id</th>\n",
       "    </tr>\n",
       "  </thead>\n",
       "  <tbody>\n",
       "    <tr>\n",
       "      <th>0</th>\n",
       "      <td>0.0</td>\n",
       "      <td>-0.036002</td>\n",
       "      <td>-0.036002</td>\n",
       "      <td>0</td>\n",
       "    </tr>\n",
       "    <tr>\n",
       "      <th>1</th>\n",
       "      <td>0.0</td>\n",
       "      <td>0.083914</td>\n",
       "      <td>0.083914</td>\n",
       "      <td>1</td>\n",
       "    </tr>\n",
       "    <tr>\n",
       "      <th>2</th>\n",
       "      <td>0.0</td>\n",
       "      <td>0.089714</td>\n",
       "      <td>0.089714</td>\n",
       "      <td>2</td>\n",
       "    </tr>\n",
       "    <tr>\n",
       "      <th>3</th>\n",
       "      <td>0.0</td>\n",
       "      <td>-0.036002</td>\n",
       "      <td>-0.036002</td>\n",
       "      <td>3</td>\n",
       "    </tr>\n",
       "    <tr>\n",
       "      <th>4</th>\n",
       "      <td>0.0</td>\n",
       "      <td>0.091025</td>\n",
       "      <td>0.091025</td>\n",
       "      <td>4</td>\n",
       "    </tr>\n",
       "    <tr>\n",
       "      <th>...</th>\n",
       "      <td>...</td>\n",
       "      <td>...</td>\n",
       "      <td>...</td>\n",
       "      <td>...</td>\n",
       "    </tr>\n",
       "    <tr>\n",
       "      <th>422572</th>\n",
       "      <td>0.0</td>\n",
       "      <td>0.138159</td>\n",
       "      <td>0.138159</td>\n",
       "      <td>422572</td>\n",
       "    </tr>\n",
       "    <tr>\n",
       "      <th>422573</th>\n",
       "      <td>0.0</td>\n",
       "      <td>0.094061</td>\n",
       "      <td>0.094061</td>\n",
       "      <td>422573</td>\n",
       "    </tr>\n",
       "    <tr>\n",
       "      <th>422574</th>\n",
       "      <td>0.0</td>\n",
       "      <td>0.117828</td>\n",
       "      <td>0.117828</td>\n",
       "      <td>422574</td>\n",
       "    </tr>\n",
       "    <tr>\n",
       "      <th>422575</th>\n",
       "      <td>0.0</td>\n",
       "      <td>0.094061</td>\n",
       "      <td>0.094061</td>\n",
       "      <td>422575</td>\n",
       "    </tr>\n",
       "    <tr>\n",
       "      <th>422576</th>\n",
       "      <td>0.0</td>\n",
       "      <td>0.107862</td>\n",
       "      <td>0.107862</td>\n",
       "      <td>422576</td>\n",
       "    </tr>\n",
       "  </tbody>\n",
       "</table>\n",
       "<p>422577 rows × 4 columns</p>\n",
       "</div>"
      ],
      "text/plain": [
       "        valid_target  residuals  predicted  object_id\n",
       "0                0.0  -0.036002  -0.036002          0\n",
       "1                0.0   0.083914   0.083914          1\n",
       "2                0.0   0.089714   0.089714          2\n",
       "3                0.0  -0.036002  -0.036002          3\n",
       "4                0.0   0.091025   0.091025          4\n",
       "...              ...        ...        ...        ...\n",
       "422572           0.0   0.138159   0.138159     422572\n",
       "422573           0.0   0.094061   0.094061     422573\n",
       "422574           0.0   0.117828   0.117828     422574\n",
       "422575           0.0   0.094061   0.094061     422575\n",
       "422576           0.0   0.107862   0.107862     422576\n",
       "\n",
       "[422577 rows x 4 columns]"
      ]
     },
     "metadata": {},
     "execution_count": 6
    }
   ],
   "metadata": {}
  },
  {
   "cell_type": "code",
   "execution_count": 7,
   "source": [
    "report = report.merge(idx, on='object_id', how='left')"
   ],
   "outputs": [],
   "metadata": {}
  },
  {
   "cell_type": "code",
   "execution_count": 8,
   "source": [
    "run['analysis/residuals/plots/whisker'].upload(File.as_image(sns.boxplot(data=report, x='residuals').set_title('Residual whisker').figure))"
   ],
   "outputs": [
    {
     "output_type": "display_data",
     "data": {
      "image/png": "[encoded data removed]",
      "text/plain": [
       "<Figure size 432x288 with 1 Axes>"
      ]
     },
     "metadata": {
      "needs_background": "light"
     }
    }
   ],
   "metadata": {}
  },
  {
   "cell_type": "code",
   "execution_count": 11,
   "source": [
    "run['analysis/residuals/plots/dependecies'] = {\n",
    "    'target_residual': File.as_image(sns.lmplot(data=report, x='valid_target', y='residuals').figure),\n",
    "    'target_predicted': File.as_image(sns.lmplot(data=report, x='valid_target', y='predicted').figure),\n",
    "}"
   ],
   "outputs": [
    {
     "output_type": "display_data",
     "data": {
      "image/png": "[encoded data removed]",
      "text/plain": [
       "<Figure size 360x360 with 1 Axes>"
      ]
     },
     "metadata": {
      "needs_background": "light"
     }
    },
    {
     "output_type": "display_data",
     "data": {
      "image/png": "[encoded data removed]",
      "text/plain": [
       "<Figure size 360x360 with 1 Axes>"
      ]
     },
     "metadata": {
      "needs_background": "light"
     }
    }
   ],
   "metadata": {}
  },
  {
   "cell_type": "code",
   "execution_count": 12,
   "source": [
    "stable_residual_interval = report.reset_index().rename(columns={'index': 'id'}).merge(idx)\n",
    "stable_residual_interval['abs_residuals'] = abs(stable_residual_interval['residuals'])"
   ],
   "outputs": [],
   "metadata": {}
  },
  {
   "cell_type": "code",
   "execution_count": 14,
   "source": [
    "giant_test, percent_str =  causation_1_percent(stable_residual_interval)"
   ],
   "outputs": [
    {
     "output_type": "stream",
     "name": "stdout",
     "text": [
      "0.1% of objects cause 0.9803533984869324 of error\n"
     ]
    }
   ],
   "metadata": {}
  },
  {
   "cell_type": "code",
   "execution_count": 44,
   "source": [
    "giant_test"
   ],
   "outputs": [
    {
     "output_type": "execute_result",
     "data": {
      "text/html": [
       "<div>\n",
       "<style scoped>\n",
       "    .dataframe tbody tr th:only-of-type {\n",
       "        vertical-align: middle;\n",
       "    }\n",
       "\n",
       "    .dataframe tbody tr th {\n",
       "        vertical-align: top;\n",
       "    }\n",
       "\n",
       "    .dataframe thead th {\n",
       "        text-align: right;\n",
       "    }\n",
       "</style>\n",
       "<table border=\"1\" class=\"dataframe\">\n",
       "  <thead>\n",
       "    <tr style=\"text-align: right;\">\n",
       "      <th></th>\n",
       "      <th>id</th>\n",
       "      <th>valid_target</th>\n",
       "      <th>residuals</th>\n",
       "      <th>predicted</th>\n",
       "      <th>object_id</th>\n",
       "      <th>Unnamed: 0</th>\n",
       "      <th>item_name</th>\n",
       "      <th>item_id</th>\n",
       "      <th>item_category_id</th>\n",
       "      <th>shop_name</th>\n",
       "      <th>shop_id</th>\n",
       "      <th>item_category_name</th>\n",
       "      <th>abs_residuals</th>\n",
       "      <th>part</th>\n",
       "    </tr>\n",
       "  </thead>\n",
       "  <tbody>\n",
       "    <tr>\n",
       "      <th>343923</th>\n",
       "      <td>343923</td>\n",
       "      <td>15.0</td>\n",
       "      <td>-14.902502</td>\n",
       "      <td>0.097498</td>\n",
       "      <td>343923</td>\n",
       "      <td>343923</td>\n",
       "      <td>FABIAN LARA  En Toute Intimite</td>\n",
       "      <td>3268</td>\n",
       "      <td>55</td>\n",
       "      <td>Балашиха ТРК \"Октябрь-Киномир\"</td>\n",
       "      <td>3</td>\n",
       "      <td>Музыка - CD локального производства</td>\n",
       "      <td>14.902502</td>\n",
       "      <td>0.000023</td>\n",
       "    </tr>\n",
       "    <tr>\n",
       "      <th>342805</th>\n",
       "      <td>342805</td>\n",
       "      <td>15.0</td>\n",
       "      <td>-14.902502</td>\n",
       "      <td>0.097498</td>\n",
       "      <td>342805</td>\n",
       "      <td>342805</td>\n",
       "      <td>ENIGMA  Seven Lives Many Faces</td>\n",
       "      <td>3118</td>\n",
       "      <td>55</td>\n",
       "      <td>Москва ТРК \"Атриум\"</td>\n",
       "      <td>25</td>\n",
       "      <td>Музыка - CD локального производства</td>\n",
       "      <td>14.902502</td>\n",
       "      <td>0.000023</td>\n",
       "    </tr>\n",
       "    <tr>\n",
       "      <th>375171</th>\n",
       "      <td>375171</td>\n",
       "      <td>15.0</td>\n",
       "      <td>-14.902502</td>\n",
       "      <td>0.097498</td>\n",
       "      <td>375171</td>\n",
       "      <td>375171</td>\n",
       "      <td>SLIM  Отличай людей</td>\n",
       "      <td>6304</td>\n",
       "      <td>55</td>\n",
       "      <td>Тюмень ТЦ \"Зеленый Берег\"</td>\n",
       "      <td>51</td>\n",
       "      <td>Музыка - CD локального производства</td>\n",
       "      <td>14.902502</td>\n",
       "      <td>0.000023</td>\n",
       "    </tr>\n",
       "    <tr>\n",
       "      <th>355666</th>\n",
       "      <td>355666</td>\n",
       "      <td>15.0</td>\n",
       "      <td>-14.902502</td>\n",
       "      <td>0.097498</td>\n",
       "      <td>355666</td>\n",
       "      <td>355666</td>\n",
       "      <td>LADY GAGA  The Fame Monster  2CD</td>\n",
       "      <td>4289</td>\n",
       "      <td>55</td>\n",
       "      <td>Сергиев Посад ТЦ \"7Я\"</td>\n",
       "      <td>46</td>\n",
       "      <td>Музыка - CD локального производства</td>\n",
       "      <td>14.902502</td>\n",
       "      <td>0.000023</td>\n",
       "    </tr>\n",
       "    <tr>\n",
       "      <th>356703</th>\n",
       "      <td>356703</td>\n",
       "      <td>15.0</td>\n",
       "      <td>-14.902502</td>\n",
       "      <td>0.097498</td>\n",
       "      <td>356703</td>\n",
       "      <td>356703</td>\n",
       "      <td>LIMP BIZKIT  Gold Cobra</td>\n",
       "      <td>4411</td>\n",
       "      <td>55</td>\n",
       "      <td>Балашиха ТРК \"Октябрь-Киномир\"</td>\n",
       "      <td>3</td>\n",
       "      <td>Музыка - CD локального производства</td>\n",
       "      <td>14.902502</td>\n",
       "      <td>0.000023</td>\n",
       "    </tr>\n",
       "    <tr>\n",
       "      <th>...</th>\n",
       "      <td>...</td>\n",
       "      <td>...</td>\n",
       "      <td>...</td>\n",
       "      <td>...</td>\n",
       "      <td>...</td>\n",
       "      <td>...</td>\n",
       "      <td>...</td>\n",
       "      <td>...</td>\n",
       "      <td>...</td>\n",
       "      <td>...</td>\n",
       "      <td>...</td>\n",
       "      <td>...</td>\n",
       "      <td>...</td>\n",
       "      <td>...</td>\n",
       "    </tr>\n",
       "    <tr>\n",
       "      <th>419944</th>\n",
       "      <td>419944</td>\n",
       "      <td>0.0</td>\n",
       "      <td>545.498540</td>\n",
       "      <td>545.498540</td>\n",
       "      <td>419944</td>\n",
       "      <td>419944</td>\n",
       "      <td>КЛАССИКА  Бизе Жорж  Щедрин Родион  Кармен-сюи...</td>\n",
       "      <td>12532</td>\n",
       "      <td>55</td>\n",
       "      <td>Волжский ТЦ \"Волга Молл\"</td>\n",
       "      <td>4</td>\n",
       "      <td>Музыка - CD локального производства</td>\n",
       "      <td>545.498540</td>\n",
       "      <td>0.030570</td>\n",
       "    </tr>\n",
       "    <tr>\n",
       "      <th>419946</th>\n",
       "      <td>419946</td>\n",
       "      <td>0.0</td>\n",
       "      <td>781.362443</td>\n",
       "      <td>781.362443</td>\n",
       "      <td>419946</td>\n",
       "      <td>419946</td>\n",
       "      <td>КЛАССИКА  Бизе Жорж  Щедрин Родион  Кармен-сюи...</td>\n",
       "      <td>12532</td>\n",
       "      <td>55</td>\n",
       "      <td>Воронеж (Плехановская, 13)</td>\n",
       "      <td>6</td>\n",
       "      <td>Музыка - CD локального производства</td>\n",
       "      <td>781.362443</td>\n",
       "      <td>0.062721</td>\n",
       "    </tr>\n",
       "    <tr>\n",
       "      <th>419945</th>\n",
       "      <td>419945</td>\n",
       "      <td>0.0</td>\n",
       "      <td>976.963671</td>\n",
       "      <td>976.963671</td>\n",
       "      <td>419945</td>\n",
       "      <td>419945</td>\n",
       "      <td>КЛАССИКА  Бизе Жорж  Щедрин Родион  Кармен-сюи...</td>\n",
       "      <td>12532</td>\n",
       "      <td>55</td>\n",
       "      <td>Вологда ТРЦ \"Мармелад\"</td>\n",
       "      <td>5</td>\n",
       "      <td>Музыка - CD локального производства</td>\n",
       "      <td>976.963671</td>\n",
       "      <td>0.098053</td>\n",
       "    </tr>\n",
       "    <tr>\n",
       "      <th>419983</th>\n",
       "      <td>419983</td>\n",
       "      <td>0.0</td>\n",
       "      <td>977.169256</td>\n",
       "      <td>977.169256</td>\n",
       "      <td>419983</td>\n",
       "      <td>419983</td>\n",
       "      <td>КЛАССИКА  Бизе Жорж  Щедрин Родион  Кармен-сюи...</td>\n",
       "      <td>12532</td>\n",
       "      <td>55</td>\n",
       "      <td>СПб ТК \"Сенная\"</td>\n",
       "      <td>43</td>\n",
       "      <td>Музыка - CD локального производства</td>\n",
       "      <td>977.169256</td>\n",
       "      <td>0.098095</td>\n",
       "    </tr>\n",
       "    <tr>\n",
       "      <th>420057</th>\n",
       "      <td>420057</td>\n",
       "      <td>2252.0</td>\n",
       "      <td>-2182.819448</td>\n",
       "      <td>69.180552</td>\n",
       "      <td>420057</td>\n",
       "      <td>420057</td>\n",
       "      <td>КЛАССИКА  Венский бал  Вальсы, польки, марши с...</td>\n",
       "      <td>12533</td>\n",
       "      <td>55</td>\n",
       "      <td>Якутск Орджоникидзе, 56</td>\n",
       "      <td>57</td>\n",
       "      <td>Музыка - CD локального производства</td>\n",
       "      <td>2182.819448</td>\n",
       "      <td>0.489487</td>\n",
       "    </tr>\n",
       "  </tbody>\n",
       "</table>\n",
       "<p>422 rows × 14 columns</p>\n",
       "</div>"
      ],
      "text/plain": [
       "            id  valid_target    residuals   predicted  object_id  Unnamed: 0  \\\n",
       "343923  343923          15.0   -14.902502    0.097498     343923      343923   \n",
       "342805  342805          15.0   -14.902502    0.097498     342805      342805   \n",
       "375171  375171          15.0   -14.902502    0.097498     375171      375171   \n",
       "355666  355666          15.0   -14.902502    0.097498     355666      355666   \n",
       "356703  356703          15.0   -14.902502    0.097498     356703      356703   \n",
       "...        ...           ...          ...         ...        ...         ...   \n",
       "419944  419944           0.0   545.498540  545.498540     419944      419944   \n",
       "419946  419946           0.0   781.362443  781.362443     419946      419946   \n",
       "419945  419945           0.0   976.963671  976.963671     419945      419945   \n",
       "419983  419983           0.0   977.169256  977.169256     419983      419983   \n",
       "420057  420057        2252.0 -2182.819448   69.180552     420057      420057   \n",
       "\n",
       "                                                item_name  item_id  \\\n",
       "343923                     FABIAN LARA  En Toute Intimite     3268   \n",
       "342805                     ENIGMA  Seven Lives Many Faces     3118   \n",
       "375171                                SLIM  Отличай людей     6304   \n",
       "355666                   LADY GAGA  The Fame Monster  2CD     4289   \n",
       "356703                            LIMP BIZKIT  Gold Cobra     4411   \n",
       "...                                                   ...      ...   \n",
       "419944  КЛАССИКА  Бизе Жорж  Щедрин Родион  Кармен-сюи...    12532   \n",
       "419946  КЛАССИКА  Бизе Жорж  Щедрин Родион  Кармен-сюи...    12532   \n",
       "419945  КЛАССИКА  Бизе Жорж  Щедрин Родион  Кармен-сюи...    12532   \n",
       "419983  КЛАССИКА  Бизе Жорж  Щедрин Родион  Кармен-сюи...    12532   \n",
       "420057  КЛАССИКА  Венский бал  Вальсы, польки, марши с...    12533   \n",
       "\n",
       "        item_category_id                       shop_name  shop_id  \\\n",
       "343923                55  Балашиха ТРК \"Октябрь-Киномир\"        3   \n",
       "342805                55             Москва ТРК \"Атриум\"       25   \n",
       "375171                55       Тюмень ТЦ \"Зеленый Берег\"       51   \n",
       "355666                55           Сергиев Посад ТЦ \"7Я\"       46   \n",
       "356703                55  Балашиха ТРК \"Октябрь-Киномир\"        3   \n",
       "...                  ...                             ...      ...   \n",
       "419944                55        Волжский ТЦ \"Волга Молл\"        4   \n",
       "419946                55      Воронеж (Плехановская, 13)        6   \n",
       "419945                55          Вологда ТРЦ \"Мармелад\"        5   \n",
       "419983                55                 СПб ТК \"Сенная\"       43   \n",
       "420057                55         Якутск Орджоникидзе, 56       57   \n",
       "\n",
       "                         item_category_name  abs_residuals      part  \n",
       "343923  Музыка - CD локального производства      14.902502  0.000023  \n",
       "342805  Музыка - CD локального производства      14.902502  0.000023  \n",
       "375171  Музыка - CD локального производства      14.902502  0.000023  \n",
       "355666  Музыка - CD локального производства      14.902502  0.000023  \n",
       "356703  Музыка - CD локального производства      14.902502  0.000023  \n",
       "...                                     ...            ...       ...  \n",
       "419944  Музыка - CD локального производства     545.498540  0.030570  \n",
       "419946  Музыка - CD локального производства     781.362443  0.062721  \n",
       "419945  Музыка - CD локального производства     976.963671  0.098053  \n",
       "419983  Музыка - CD локального производства     977.169256  0.098095  \n",
       "420057  Музыка - CD локального производства    2182.819448  0.489487  \n",
       "\n",
       "[422 rows x 14 columns]"
      ]
     },
     "metadata": {},
     "execution_count": 44
    }
   ],
   "metadata": {}
  },
  {
   "cell_type": "code",
   "execution_count": 17,
   "source": [
    "run['analysis/residuals/top_worst/magic_string'] = percent_str\n",
    "run['analysis/residuals/top_worst/raw_giants'].upload(File.as_pickle(giant_test))\n",
    "\n",
    "\n",
    "serieses = task_df['test'].groupby(['month_block', 'id']).item_cnt_day.sum().reset_index().set_index('id').index.value_counts().reset_index().rename({'id': 'appearence', 'index': 'id'}, axis=1)"
   ],
   "outputs": [],
   "metadata": {}
  },
  {
   "cell_type": "code",
   "execution_count": 19,
   "source": [
    "top_50 = (giant_test.sort_values('part').reset_index()\n",
    "    .groupby([\n",
    "        'id', 'shop_id', 'item_id', 'shop_name', 'item_name'])\n",
    "    .agg({\n",
    "        'predicted': [np.mean],\n",
    "        'valid_target': [np.mean], \n",
    "        'part': [np.mean], \n",
    "        'abs_residuals': [np.mean, lambda x: np.mean(x)**2]})\n",
    "    .sort_values(('part', 'mean'))\n",
    "    .tail(50)\n",
    "    )\n",
    "run['analysis/residuals/top_worst/top_50_objects'].upload(File.as_html(top_50))"
   ],
   "outputs": [],
   "metadata": {}
  },
  {
   "cell_type": "code",
   "execution_count": 20,
   "source": [
    "top_15_shops = (giant_test.sort_values('part')\n",
    "    .groupby([\n",
    "        'shop_id', 'shop_name'])\n",
    "    .agg({\n",
    "        'part': [np.sum], \n",
    "        'abs_residuals': [np.sum]})\n",
    "    .sort_values(('part', 'sum'))\n",
    "    .tail(15))\n",
    "run['analysis/residuals/top_worst/top_15_shops'].upload(File.as_html(top_15_shops))"
   ],
   "outputs": [],
   "metadata": {}
  },
  {
   "cell_type": "code",
   "execution_count": 21,
   "source": [
    "top_15_items= (giant_test.sort_values('part')\n",
    "    .groupby([\n",
    "        'item_id', 'item_name'])\n",
    "    .agg({\n",
    "        'part': [np.sum], \n",
    "        'abs_residuals': [np.sum]})\n",
    "    .sort_values(('part', 'sum'))\n",
    "    .tail(15))\n",
    "run['analysis/residuals/top_worst/top_15_items'].upload(File.as_html(top_15_items))"
   ],
   "outputs": [],
   "metadata": {}
  },
  {
   "cell_type": "code",
   "execution_count": 43,
   "source": [
    "for i in range(0, 10):\n",
    "    id_slice = top_50.reset_index().set_index('id').index.to_list()[-5 - 5*i: -5 - 5*(i - 1)] if i != 0 else top_50.reset_index().set_index('id').index.to_list()[-5: None]\n",
    "    print(id_slice)\n",
    "    fig = task_df['dynamic'][task_df['dynamic'].index.isin(id_slice)].transpose().plot(figsize=(10, 5)).figure\n",
    "    run[f'analysis/residuals/plots/top_{5*i}-{5*(i + 1)}_items'].upload(File.as_image(fig))"
   ],
   "outputs": [
    {
     "output_type": "stream",
     "name": "stdout",
     "text": [
      "1\n",
      "0\n"
     ]
    },
    {
     "output_type": "error",
     "ename": "TypeError",
     "evalue": "no numeric data to plot",
     "traceback": [
      "\u001b[0;31m---------------------------------------------------------------------------\u001b[0m",
      "\u001b[0;31mTypeError\u001b[0m                                 Traceback (most recent call last)",
      "\u001b[0;32m/tmp/ipykernel_20492/3532279069.py\u001b[0m in \u001b[0;36m<module>\u001b[0;34m\u001b[0m\n\u001b[1;32m      2\u001b[0m     \u001b[0mid_slice\u001b[0m \u001b[0;34m=\u001b[0m \u001b[0mtop_50\u001b[0m\u001b[0;34m.\u001b[0m\u001b[0mreset_index\u001b[0m\u001b[0;34m(\u001b[0m\u001b[0;34m)\u001b[0m\u001b[0;34m.\u001b[0m\u001b[0mset_index\u001b[0m\u001b[0;34m(\u001b[0m\u001b[0;34m'id'\u001b[0m\u001b[0;34m)\u001b[0m\u001b[0;34m.\u001b[0m\u001b[0mindex\u001b[0m\u001b[0;34m.\u001b[0m\u001b[0mto_list\u001b[0m\u001b[0;34m(\u001b[0m\u001b[0;34m)\u001b[0m\u001b[0;34m[\u001b[0m\u001b[0;34m-\u001b[0m\u001b[0;36m5\u001b[0m \u001b[0;34m-\u001b[0m \u001b[0;36m5\u001b[0m\u001b[0;34m*\u001b[0m\u001b[0mi\u001b[0m\u001b[0;34m:\u001b[0m \u001b[0;34m-\u001b[0m\u001b[0;36m5\u001b[0m \u001b[0;34m-\u001b[0m \u001b[0;36m5\u001b[0m\u001b[0;34m*\u001b[0m\u001b[0;34m(\u001b[0m\u001b[0mi\u001b[0m \u001b[0;34m-\u001b[0m \u001b[0;36m1\u001b[0m\u001b[0;34m)\u001b[0m\u001b[0;34m]\u001b[0m \u001b[0;32mif\u001b[0m \u001b[0mi\u001b[0m \u001b[0;34m!=\u001b[0m \u001b[0;36m0\u001b[0m \u001b[0;32melse\u001b[0m \u001b[0mtop_50\u001b[0m\u001b[0;34m.\u001b[0m\u001b[0mreset_index\u001b[0m\u001b[0;34m(\u001b[0m\u001b[0;34m)\u001b[0m\u001b[0;34m.\u001b[0m\u001b[0mset_index\u001b[0m\u001b[0;34m(\u001b[0m\u001b[0;34m'id'\u001b[0m\u001b[0;34m)\u001b[0m\u001b[0;34m.\u001b[0m\u001b[0mindex\u001b[0m\u001b[0;34m.\u001b[0m\u001b[0mto_list\u001b[0m\u001b[0;34m(\u001b[0m\u001b[0;34m)\u001b[0m\u001b[0;34m[\u001b[0m\u001b[0;34m-\u001b[0m\u001b[0;36m5\u001b[0m\u001b[0;34m:\u001b[0m \u001b[0;32mNone\u001b[0m\u001b[0;34m]\u001b[0m\u001b[0;34m\u001b[0m\u001b[0;34m\u001b[0m\u001b[0m\n\u001b[1;32m      3\u001b[0m     \u001b[0mprint\u001b[0m\u001b[0;34m(\u001b[0m\u001b[0mtask_df\u001b[0m\u001b[0;34m[\u001b[0m\u001b[0;34m'dynamic'\u001b[0m\u001b[0;34m]\u001b[0m\u001b[0;34m.\u001b[0m\u001b[0mindex\u001b[0m\u001b[0;34m.\u001b[0m\u001b[0misin\u001b[0m\u001b[0;34m(\u001b[0m\u001b[0mid_slice\u001b[0m\u001b[0;34m)\u001b[0m\u001b[0;34m.\u001b[0m\u001b[0msum\u001b[0m\u001b[0;34m(\u001b[0m\u001b[0;34m)\u001b[0m\u001b[0;34m)\u001b[0m\u001b[0;34m\u001b[0m\u001b[0;34m\u001b[0m\u001b[0m\n\u001b[0;32m----> 4\u001b[0;31m     \u001b[0mfig\u001b[0m \u001b[0;34m=\u001b[0m \u001b[0mtask_df\u001b[0m\u001b[0;34m[\u001b[0m\u001b[0;34m'dynamic'\u001b[0m\u001b[0;34m]\u001b[0m\u001b[0;34m[\u001b[0m\u001b[0mtask_df\u001b[0m\u001b[0;34m[\u001b[0m\u001b[0;34m'dynamic'\u001b[0m\u001b[0;34m]\u001b[0m\u001b[0;34m.\u001b[0m\u001b[0mindex\u001b[0m\u001b[0;34m.\u001b[0m\u001b[0misin\u001b[0m\u001b[0;34m(\u001b[0m\u001b[0mid_slice\u001b[0m\u001b[0;34m)\u001b[0m\u001b[0;34m]\u001b[0m\u001b[0;34m.\u001b[0m\u001b[0mtranspose\u001b[0m\u001b[0;34m(\u001b[0m\u001b[0;34m)\u001b[0m\u001b[0;34m.\u001b[0m\u001b[0mplot\u001b[0m\u001b[0;34m(\u001b[0m\u001b[0mfigsize\u001b[0m\u001b[0;34m=\u001b[0m\u001b[0;34m(\u001b[0m\u001b[0;36m10\u001b[0m\u001b[0;34m,\u001b[0m \u001b[0;36m5\u001b[0m\u001b[0;34m)\u001b[0m\u001b[0;34m)\u001b[0m\u001b[0;34m.\u001b[0m\u001b[0mfigure\u001b[0m\u001b[0;34m\u001b[0m\u001b[0;34m\u001b[0m\u001b[0m\n\u001b[0m\u001b[1;32m      5\u001b[0m     \u001b[0mrun\u001b[0m\u001b[0;34m[\u001b[0m\u001b[0;34mf'analysis/residuals/plots/top_{5*i}-{5*(i + 1)}_items'\u001b[0m\u001b[0;34m]\u001b[0m\u001b[0;34m.\u001b[0m\u001b[0mupload\u001b[0m\u001b[0;34m(\u001b[0m\u001b[0mFile\u001b[0m\u001b[0;34m.\u001b[0m\u001b[0mas_image\u001b[0m\u001b[0;34m(\u001b[0m\u001b[0mfig\u001b[0m\u001b[0;34m)\u001b[0m\u001b[0;34m)\u001b[0m\u001b[0;34m\u001b[0m\u001b[0;34m\u001b[0m\u001b[0m\n",
      "\u001b[0;32m~/Repo/fs_project/env/lib/python3.8/site-packages/pandas/plotting/_core.py\u001b[0m in \u001b[0;36m__call__\u001b[0;34m(self, *args, **kwargs)\u001b[0m\n\u001b[1;32m    970\u001b[0m                     \u001b[0mdata\u001b[0m\u001b[0;34m.\u001b[0m\u001b[0mcolumns\u001b[0m \u001b[0;34m=\u001b[0m \u001b[0mlabel_name\u001b[0m\u001b[0;34m\u001b[0m\u001b[0;34m\u001b[0m\u001b[0m\n\u001b[1;32m    971\u001b[0m \u001b[0;34m\u001b[0m\u001b[0m\n\u001b[0;32m--> 972\u001b[0;31m         \u001b[0;32mreturn\u001b[0m \u001b[0mplot_backend\u001b[0m\u001b[0;34m.\u001b[0m\u001b[0mplot\u001b[0m\u001b[0;34m(\u001b[0m\u001b[0mdata\u001b[0m\u001b[0;34m,\u001b[0m \u001b[0mkind\u001b[0m\u001b[0;34m=\u001b[0m\u001b[0mkind\u001b[0m\u001b[0;34m,\u001b[0m \u001b[0;34m**\u001b[0m\u001b[0mkwargs\u001b[0m\u001b[0;34m)\u001b[0m\u001b[0;34m\u001b[0m\u001b[0;34m\u001b[0m\u001b[0m\n\u001b[0m\u001b[1;32m    973\u001b[0m \u001b[0;34m\u001b[0m\u001b[0m\n\u001b[1;32m    974\u001b[0m     \u001b[0m__call__\u001b[0m\u001b[0;34m.\u001b[0m\u001b[0m__doc__\u001b[0m \u001b[0;34m=\u001b[0m \u001b[0m__doc__\u001b[0m\u001b[0;34m\u001b[0m\u001b[0;34m\u001b[0m\u001b[0m\n",
      "\u001b[0;32m~/Repo/fs_project/env/lib/python3.8/site-packages/pandas/plotting/_matplotlib/__init__.py\u001b[0m in \u001b[0;36mplot\u001b[0;34m(data, kind, **kwargs)\u001b[0m\n\u001b[1;32m     69\u001b[0m             \u001b[0mkwargs\u001b[0m\u001b[0;34m[\u001b[0m\u001b[0;34m\"ax\"\u001b[0m\u001b[0;34m]\u001b[0m \u001b[0;34m=\u001b[0m \u001b[0mgetattr\u001b[0m\u001b[0;34m(\u001b[0m\u001b[0max\u001b[0m\u001b[0;34m,\u001b[0m \u001b[0;34m\"left_ax\"\u001b[0m\u001b[0;34m,\u001b[0m \u001b[0max\u001b[0m\u001b[0;34m)\u001b[0m\u001b[0;34m\u001b[0m\u001b[0;34m\u001b[0m\u001b[0m\n\u001b[1;32m     70\u001b[0m     \u001b[0mplot_obj\u001b[0m \u001b[0;34m=\u001b[0m \u001b[0mPLOT_CLASSES\u001b[0m\u001b[0;34m[\u001b[0m\u001b[0mkind\u001b[0m\u001b[0;34m]\u001b[0m\u001b[0;34m(\u001b[0m\u001b[0mdata\u001b[0m\u001b[0;34m,\u001b[0m \u001b[0;34m**\u001b[0m\u001b[0mkwargs\u001b[0m\u001b[0;34m)\u001b[0m\u001b[0;34m\u001b[0m\u001b[0;34m\u001b[0m\u001b[0m\n\u001b[0;32m---> 71\u001b[0;31m     \u001b[0mplot_obj\u001b[0m\u001b[0;34m.\u001b[0m\u001b[0mgenerate\u001b[0m\u001b[0;34m(\u001b[0m\u001b[0;34m)\u001b[0m\u001b[0;34m\u001b[0m\u001b[0;34m\u001b[0m\u001b[0m\n\u001b[0m\u001b[1;32m     72\u001b[0m     \u001b[0mplot_obj\u001b[0m\u001b[0;34m.\u001b[0m\u001b[0mdraw\u001b[0m\u001b[0;34m(\u001b[0m\u001b[0;34m)\u001b[0m\u001b[0;34m\u001b[0m\u001b[0;34m\u001b[0m\u001b[0m\n\u001b[1;32m     73\u001b[0m     \u001b[0;32mreturn\u001b[0m \u001b[0mplot_obj\u001b[0m\u001b[0;34m.\u001b[0m\u001b[0mresult\u001b[0m\u001b[0;34m\u001b[0m\u001b[0;34m\u001b[0m\u001b[0m\n",
      "\u001b[0;32m~/Repo/fs_project/env/lib/python3.8/site-packages/pandas/plotting/_matplotlib/core.py\u001b[0m in \u001b[0;36mgenerate\u001b[0;34m(self)\u001b[0m\n\u001b[1;32m    284\u001b[0m     \u001b[0;32mdef\u001b[0m \u001b[0mgenerate\u001b[0m\u001b[0;34m(\u001b[0m\u001b[0mself\u001b[0m\u001b[0;34m)\u001b[0m\u001b[0;34m:\u001b[0m\u001b[0;34m\u001b[0m\u001b[0;34m\u001b[0m\u001b[0m\n\u001b[1;32m    285\u001b[0m         \u001b[0mself\u001b[0m\u001b[0;34m.\u001b[0m\u001b[0m_args_adjust\u001b[0m\u001b[0;34m(\u001b[0m\u001b[0;34m)\u001b[0m\u001b[0;34m\u001b[0m\u001b[0;34m\u001b[0m\u001b[0m\n\u001b[0;32m--> 286\u001b[0;31m         \u001b[0mself\u001b[0m\u001b[0;34m.\u001b[0m\u001b[0m_compute_plot_data\u001b[0m\u001b[0;34m(\u001b[0m\u001b[0;34m)\u001b[0m\u001b[0;34m\u001b[0m\u001b[0;34m\u001b[0m\u001b[0m\n\u001b[0m\u001b[1;32m    287\u001b[0m         \u001b[0mself\u001b[0m\u001b[0;34m.\u001b[0m\u001b[0m_setup_subplots\u001b[0m\u001b[0;34m(\u001b[0m\u001b[0;34m)\u001b[0m\u001b[0;34m\u001b[0m\u001b[0;34m\u001b[0m\u001b[0m\n\u001b[1;32m    288\u001b[0m         \u001b[0mself\u001b[0m\u001b[0;34m.\u001b[0m\u001b[0m_make_plot\u001b[0m\u001b[0;34m(\u001b[0m\u001b[0;34m)\u001b[0m\u001b[0;34m\u001b[0m\u001b[0;34m\u001b[0m\u001b[0m\n",
      "\u001b[0;32m~/Repo/fs_project/env/lib/python3.8/site-packages/pandas/plotting/_matplotlib/core.py\u001b[0m in \u001b[0;36m_compute_plot_data\u001b[0;34m(self)\u001b[0m\n\u001b[1;32m    451\u001b[0m         \u001b[0;31m# no non-numeric frames or series allowed\u001b[0m\u001b[0;34m\u001b[0m\u001b[0;34m\u001b[0m\u001b[0;34m\u001b[0m\u001b[0m\n\u001b[1;32m    452\u001b[0m         \u001b[0;32mif\u001b[0m \u001b[0mis_empty\u001b[0m\u001b[0;34m:\u001b[0m\u001b[0;34m\u001b[0m\u001b[0;34m\u001b[0m\u001b[0m\n\u001b[0;32m--> 453\u001b[0;31m             \u001b[0;32mraise\u001b[0m \u001b[0mTypeError\u001b[0m\u001b[0;34m(\u001b[0m\u001b[0;34m\"no numeric data to plot\"\u001b[0m\u001b[0;34m)\u001b[0m\u001b[0;34m\u001b[0m\u001b[0;34m\u001b[0m\u001b[0m\n\u001b[0m\u001b[1;32m    454\u001b[0m \u001b[0;34m\u001b[0m\u001b[0m\n\u001b[1;32m    455\u001b[0m         \u001b[0mself\u001b[0m\u001b[0;34m.\u001b[0m\u001b[0mdata\u001b[0m \u001b[0;34m=\u001b[0m \u001b[0mnumeric_data\u001b[0m\u001b[0;34m.\u001b[0m\u001b[0mapply\u001b[0m\u001b[0;34m(\u001b[0m\u001b[0mself\u001b[0m\u001b[0;34m.\u001b[0m\u001b[0m_convert_to_ndarray\u001b[0m\u001b[0;34m)\u001b[0m\u001b[0;34m\u001b[0m\u001b[0;34m\u001b[0m\u001b[0m\n",
      "\u001b[0;31mTypeError\u001b[0m: no numeric data to plot"
     ]
    },
    {
     "output_type": "display_data",
     "data": {
      "image/png": "[encoded data removed]",
      "text/plain": [
       "<Figure size 720x360 with 1 Axes>"
      ]
     },
     "metadata": {
      "needs_background": "light"
     }
    }
   ],
   "metadata": {}
  },
  {
   "cell_type": "code",
   "execution_count": 45,
   "source": [
    "run.stop()"
   ],
   "outputs": [
    {
     "output_type": "stream",
     "name": "stdout",
     "text": [
      "Shutting down background jobs, please wait a moment...\n",
      "Done!\n"
     ]
    },
    {
     "output_type": "stream",
     "name": "stderr",
     "text": [
      "Waiting for the remaining 1 operations to synchronize with Neptune. Do not kill this process.\n"
     ]
    },
    {
     "output_type": "stream",
     "name": "stdout",
     "text": [
      "All 1 operations synced, thanks for waiting!\n"
     ]
    }
   ],
   "metadata": {}
  }
 ],
 "metadata": {
  "orig_nbformat": 4,
  "language_info": {
   "name": "python",
   "version": "3.8.10",
   "mimetype": "text/x-python",
   "codemirror_mode": {
    "name": "ipython",
    "version": 3
   },
   "pygments_lexer": "ipython3",
   "nbconvert_exporter": "python",
   "file_extension": ".py"
  },
  "kernelspec": {
   "name": "python3",
   "display_name": "Python 3.8.10 64-bit ('env': venv)"
  },
  "interpreter": {
   "hash": "d6f0a83fd70573169f91d6afa8cd6daf12135fd479a43538d29ef02678dc9121"
  }
 },
 "nbformat": 4,
 "nbformat_minor": 2
}
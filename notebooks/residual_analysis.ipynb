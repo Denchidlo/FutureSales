{
 "cells": [
  {
   "cell_type": "code",
   "execution_count": 1,
   "source": [
    "from lib import *\n",
    "\n",
    "Pipeline = pipeline.Pipeline\n",
    "RegressionValidator = pipeline.RegressionValidator\n",
    "\n",
    "DatasetProvider = provider.DatasetProvider\n",
    "DatasetUploader = provider.DatasetUploader"
   ],
   "outputs": [],
   "metadata": {}
  },
  {
   "cell_type": "code",
   "execution_count": 2,
   "source": [
    "import numpy as np # linear algebra\n",
    "import pandas as pd # data processing, CSV file I/O (e.g. pd.read_csv)\n",
    "\n",
    "from tqdm._tqdm_notebook import tqdm_notebook\n",
    "from tqdm._tqdm_notebook import tqdm\n",
    "tqdm_notebook.pandas()\n",
    "\n",
    "pd.plotting.register_matplotlib_converters()\n",
    "import matplotlib.pyplot as plt\n",
    "%matplotlib inline\n",
    "\n",
    "import seaborn as sns"
   ],
   "outputs": [
    {
     "output_type": "stream",
     "name": "stderr",
     "text": [
      "/tmp/ipykernel_5448/2147512924.py:4: TqdmDeprecationWarning: This function will be removed in tqdm==5.0.0\n",
      "Please use `tqdm.notebook.*` instead of `tqdm._tqdm_notebook.*`\n",
      "  from tqdm._tqdm_notebook import tqdm_notebook\n"
     ]
    }
   ],
   "metadata": {}
  },
  {
   "cell_type": "code",
   "execution_count": 3,
   "source": [
    "import pickle\n",
    "\n",
    "def load_pickle(dataset, name):\n",
    "    dataset.to_pickle(name + '.pkl')\n",
    "\n",
    "def from_pickle(path):\n",
    "    with open(path, 'rb') as reader:\n",
    "        return pickle.load(reader)"
   ],
   "outputs": [],
   "metadata": {}
  },
  {
   "cell_type": "code",
   "execution_count": 4,
   "source": [
    "errors = from_pickle('tmp/ridge_error.pkl')"
   ],
   "outputs": [],
   "metadata": {}
  },
  {
   "cell_type": "code",
   "execution_count": 5,
   "source": [
    "errors"
   ],
   "outputs": [
    {
     "output_type": "execute_result",
     "data": {
      "text/plain": [
       "(3.1020921763666367,\n",
       " array([[0.09057742],\n",
       "        [0.10649438],\n",
       "        [0.09729282],\n",
       "        ...,\n",
       "        [0.09248606],\n",
       "        [0.09248606],\n",
       "        [0.09248606]]),\n",
       "          target\n",
       " id             \n",
       " 54          0.0\n",
       " 114         0.0\n",
       " 174         0.0\n",
       " 234         0.0\n",
       " 294         0.0\n",
       " ...         ...\n",
       " 1330036     0.0\n",
       " 1330090     0.0\n",
       " 1330142     0.0\n",
       " 1330150     0.0\n",
       " 1330156     0.0\n",
       " \n",
       " [422577 rows x 1 columns])"
      ]
     },
     "metadata": {},
     "execution_count": 5
    }
   ],
   "metadata": {}
  },
  {
   "cell_type": "code",
   "execution_count": 6,
   "source": [
    "def get_statistics(report):\n",
    "    stat = report[2]\n",
    "    stat['residuals'] = report[1] - report[2]\n",
    "    stat['id'] = report[2].index\n",
    "    return stat"
   ],
   "outputs": [],
   "metadata": {}
  },
  {
   "cell_type": "code",
   "execution_count": 7,
   "source": [
    "report = get_statistics(errors)"
   ],
   "outputs": [],
   "metadata": {}
  },
  {
   "cell_type": "code",
   "execution_count": 8,
   "source": [
    "report"
   ],
   "outputs": [
    {
     "output_type": "execute_result",
     "data": {
      "text/html": [
       "<div>\n",
       "<style scoped>\n",
       "    .dataframe tbody tr th:only-of-type {\n",
       "        vertical-align: middle;\n",
       "    }\n",
       "\n",
       "    .dataframe tbody tr th {\n",
       "        vertical-align: top;\n",
       "    }\n",
       "\n",
       "    .dataframe thead th {\n",
       "        text-align: right;\n",
       "    }\n",
       "</style>\n",
       "<table border=\"1\" class=\"dataframe\">\n",
       "  <thead>\n",
       "    <tr style=\"text-align: right;\">\n",
       "      <th></th>\n",
       "      <th>target</th>\n",
       "      <th>residuals</th>\n",
       "      <th>id</th>\n",
       "    </tr>\n",
       "    <tr>\n",
       "      <th>id</th>\n",
       "      <th></th>\n",
       "      <th></th>\n",
       "      <th></th>\n",
       "    </tr>\n",
       "  </thead>\n",
       "  <tbody>\n",
       "    <tr>\n",
       "      <th>54</th>\n",
       "      <td>0.0</td>\n",
       "      <td>0.090577</td>\n",
       "      <td>54</td>\n",
       "    </tr>\n",
       "    <tr>\n",
       "      <th>114</th>\n",
       "      <td>0.0</td>\n",
       "      <td>0.106494</td>\n",
       "      <td>114</td>\n",
       "    </tr>\n",
       "    <tr>\n",
       "      <th>174</th>\n",
       "      <td>0.0</td>\n",
       "      <td>0.097293</td>\n",
       "      <td>174</td>\n",
       "    </tr>\n",
       "    <tr>\n",
       "      <th>234</th>\n",
       "      <td>0.0</td>\n",
       "      <td>0.090577</td>\n",
       "      <td>234</td>\n",
       "    </tr>\n",
       "    <tr>\n",
       "      <th>294</th>\n",
       "      <td>0.0</td>\n",
       "      <td>0.103207</td>\n",
       "      <td>294</td>\n",
       "    </tr>\n",
       "    <tr>\n",
       "      <th>...</th>\n",
       "      <td>...</td>\n",
       "      <td>...</td>\n",
       "      <td>...</td>\n",
       "    </tr>\n",
       "    <tr>\n",
       "      <th>1330036</th>\n",
       "      <td>0.0</td>\n",
       "      <td>0.092486</td>\n",
       "      <td>1330036</td>\n",
       "    </tr>\n",
       "    <tr>\n",
       "      <th>1330090</th>\n",
       "      <td>0.0</td>\n",
       "      <td>0.092486</td>\n",
       "      <td>1330090</td>\n",
       "    </tr>\n",
       "    <tr>\n",
       "      <th>1330142</th>\n",
       "      <td>0.0</td>\n",
       "      <td>0.092486</td>\n",
       "      <td>1330142</td>\n",
       "    </tr>\n",
       "    <tr>\n",
       "      <th>1330150</th>\n",
       "      <td>0.0</td>\n",
       "      <td>0.092486</td>\n",
       "      <td>1330150</td>\n",
       "    </tr>\n",
       "    <tr>\n",
       "      <th>1330156</th>\n",
       "      <td>0.0</td>\n",
       "      <td>0.092486</td>\n",
       "      <td>1330156</td>\n",
       "    </tr>\n",
       "  </tbody>\n",
       "</table>\n",
       "<p>422577 rows × 3 columns</p>\n",
       "</div>"
      ],
      "text/plain": [
       "         target  residuals       id\n",
       "id                                 \n",
       "54          0.0   0.090577       54\n",
       "114         0.0   0.106494      114\n",
       "174         0.0   0.097293      174\n",
       "234         0.0   0.090577      234\n",
       "294         0.0   0.103207      294\n",
       "...         ...        ...      ...\n",
       "1330036     0.0   0.092486  1330036\n",
       "1330090     0.0   0.092486  1330090\n",
       "1330142     0.0   0.092486  1330142\n",
       "1330150     0.0   0.092486  1330150\n",
       "1330156     0.0   0.092486  1330156\n",
       "\n",
       "[422577 rows x 3 columns]"
      ]
     },
     "metadata": {},
     "execution_count": 8
    }
   ],
   "metadata": {}
  },
  {
   "cell_type": "code",
   "execution_count": 9,
   "source": [
    "sns.boxplot(data=report, x='residuals')"
   ],
   "outputs": [
    {
     "output_type": "execute_result",
     "data": {
      "text/plain": [
       "<AxesSubplot:xlabel='residuals'>"
      ]
     },
     "metadata": {},
     "execution_count": 9
    },
    {
     "output_type": "display_data",
     "data": {
      "image/png": "[encoded data removed]",
      "text/plain": [
       "<Figure size 432x288 with 1 Axes>"
      ]
     },
     "metadata": {
      "needs_background": "light"
     }
    }
   ],
   "metadata": {}
  },
  {
   "cell_type": "code",
   "execution_count": 10,
   "source": [
    "# sns.lmplot(data=report, x='target', y='residuals')"
   ],
   "outputs": [],
   "metadata": {}
  },
  {
   "cell_type": "code",
   "execution_count": 1,
   "source": [
    "# sns.histplot(report.residuals.sample(n=1000), kde=True)"
   ],
   "outputs": [],
   "metadata": {}
  }
 ],
 "metadata": {
  "orig_nbformat": 4,
  "language_info": {
   "name": "python",
   "version": "3.8.10",
   "mimetype": "text/x-python",
   "codemirror_mode": {
    "name": "ipython",
    "version": 3
   },
   "pygments_lexer": "ipython3",
   "nbconvert_exporter": "python",
   "file_extension": ".py"
  },
  "kernelspec": {
   "name": "python3",
   "display_name": "Python 3.8.10 64-bit ('env': venv)"
  },
  "interpreter": {
   "hash": "d6f0a83fd70573169f91d6afa8cd6daf12135fd479a43538d29ef02678dc9121"
  }
 },
 "nbformat": 4,
 "nbformat_minor": 2
}
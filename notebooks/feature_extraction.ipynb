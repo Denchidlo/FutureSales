{
 "cells": [
  {
   "cell_type": "markdown",
   "source": [
    "## My bicycle reinvention in module import issue  "
   ],
   "metadata": {}
  },
  {
   "cell_type": "code",
   "execution_count": 1,
   "source": [
    "from lib import *\n",
    "\n",
    "Pipeline = pipeline.Pipeline\n",
    "DatasetProvider = provider.DatasetProvider\n",
    "DatasetUploader = provider.DatasetUploader\n",
    "ExpandedWindowIterator = subset_extraction.ExpandedWindowIterator\n",
    "EntityIterator = subset_extraction.EntityIterator"
   ],
   "outputs": [],
   "metadata": {}
  },
  {
   "cell_type": "code",
   "execution_count": 2,
   "source": [
    "import numpy as np # linear algebra\n",
    "import pandas as pd # data processing, CSV file I/O (e.g. pd.read_csv)\n",
    "\n",
    "import scipy\n",
    "from scipy import stats\n",
    "\n",
    "pd.plotting.register_matplotlib_converters()\n",
    "import matplotlib.pyplot as plt\n",
    "%matplotlib inline\n",
    "\n",
    "import seaborn as sns\n",
    "\n",
    "from sklearn.preprocessing import LabelEncoder\n",
    "\n",
    "tr = transformers"
   ],
   "outputs": [],
   "metadata": {}
  },
  {
   "cell_type": "code",
   "execution_count": 3,
   "source": [
    "df_provider = DatasetProvider()"
   ],
   "outputs": [],
   "metadata": {}
  },
  {
   "cell_type": "code",
   "execution_count": 4,
   "source": [
    "dataset_paths = [\n",
    "    '/home/denissimo/Repo/fs_project/datasets/sample_submission.csv',\n",
    "    '/home/denissimo/Repo/fs_project/datasets/test.csv',\n",
    "    '/home/denissimo/Repo/fs_project/datasets/shops.csv',\n",
    "    '/home/denissimo/Repo/fs_project/datasets/item_categories.csv',\n",
    "    '/home/denissimo/Repo/fs_project/datasets/sales_train.csv',\n",
    "    '/home/denissimo/Repo/fs_project/datasets/items.csv'\n",
    "]"
   ],
   "outputs": [],
   "metadata": {}
  },
  {
   "cell_type": "code",
   "execution_count": 5,
   "source": [
    "df_provider.file_list = dataset_paths\n",
    "\n",
    "datasets = df_provider.get_dataset()"
   ],
   "outputs": [],
   "metadata": {}
  },
  {
   "cell_type": "code",
   "execution_count": 6,
   "source": [
    "sales = datasets['sales_train.csv']\n",
    "items = datasets['items.csv']\n",
    "categories = datasets['item_categories.csv']\n",
    "shops = datasets['shops.csv']"
   ],
   "outputs": [],
   "metadata": {}
  },
  {
   "cell_type": "code",
   "execution_count": 7,
   "source": [
    "force_category = {\n",
    "    'category': {\n",
    "        \"PC - Гарнитуры/Наушники\": \"Аксессуары\",\n",
    "        \"Игры MAC - Цифра\": \"Игры\",\n",
    "        \"Игры Android - Цифра\": \"Игры\",\n",
    "        \"Чистые носители (шпиль)\": \"Чистые носители\",\n",
    "        \"Чистые носители (штучные)\": \"Чистые носители\",\n",
    "    },\n",
    "    'shop': {\n",
    "        'Интернет-магазин ЧС': 'Интернет-магазин',\n",
    "        'Цифровой склад 1С-Онлайн': 'Склад',\n",
    "        'Выездная Торговля': 'Выездная Торговля',\n",
    "        '!Якутск Орджоникидзе, 56 фран': 'Якутск',\n",
    "        '!Якутск ТЦ \"Центральный\" фран': 'Якутск',\n",
    "    },\n",
    "}\n",
    "\n",
    "pattern = {\n",
    "    'category': ' - ',\n",
    "    'shop': ' ',\n",
    "}"
   ],
   "outputs": [],
   "metadata": {}
  },
  {
   "cell_type": "code",
   "execution_count": 8,
   "source": [
    "sales.date = sales.date.astype('datetime64[ns]')\n",
    "\n",
    "print(\"Before:\", sales.shape)\n",
    "\n",
    "from datetime import date\n",
    "\n",
    "sales = sales.loc[sales.date < np.datetime64(date(2015, 11, 1))]\n",
    "\n",
    "sales_train = sales[\n",
    "    (sales[\"item_cnt_day\"] < 1000)\n",
    "    & (sales[\"item_price\"] > 0)\n",
    "    & (sales[\"item_price\"] < 60000)\n",
    "].copy()\n",
    "print(\"After:\", sales_train.shape)\n",
    "\n",
    "sales.head()"
   ],
   "outputs": [
    {
     "output_type": "stream",
     "name": "stdout",
     "text": [
      "Before: (2935849, 6)\n",
      "After: (2896778, 6)\n"
     ]
    },
    {
     "output_type": "execute_result",
     "data": {
      "text/plain": [
       "        date  date_block_num  shop_id  item_id  item_price  item_cnt_day\n",
       "0 2013-02-01               0       59    22154      999.00           1.0\n",
       "1 2013-03-01               0       25     2552      899.00           1.0\n",
       "2 2013-05-01               0       25     2552      899.00          -1.0\n",
       "3 2013-06-01               0       25     2554     1709.05           1.0\n",
       "4 2013-01-15               0       25     2555     1099.00           1.0"
      ],
      "text/html": [
       "<div>\n",
       "<style scoped>\n",
       "    .dataframe tbody tr th:only-of-type {\n",
       "        vertical-align: middle;\n",
       "    }\n",
       "\n",
       "    .dataframe tbody tr th {\n",
       "        vertical-align: top;\n",
       "    }\n",
       "\n",
       "    .dataframe thead th {\n",
       "        text-align: right;\n",
       "    }\n",
       "</style>\n",
       "<table border=\"1\" class=\"dataframe\">\n",
       "  <thead>\n",
       "    <tr style=\"text-align: right;\">\n",
       "      <th></th>\n",
       "      <th>date</th>\n",
       "      <th>date_block_num</th>\n",
       "      <th>shop_id</th>\n",
       "      <th>item_id</th>\n",
       "      <th>item_price</th>\n",
       "      <th>item_cnt_day</th>\n",
       "    </tr>\n",
       "  </thead>\n",
       "  <tbody>\n",
       "    <tr>\n",
       "      <th>0</th>\n",
       "      <td>2013-02-01</td>\n",
       "      <td>0</td>\n",
       "      <td>59</td>\n",
       "      <td>22154</td>\n",
       "      <td>999.00</td>\n",
       "      <td>1.0</td>\n",
       "    </tr>\n",
       "    <tr>\n",
       "      <th>1</th>\n",
       "      <td>2013-03-01</td>\n",
       "      <td>0</td>\n",
       "      <td>25</td>\n",
       "      <td>2552</td>\n",
       "      <td>899.00</td>\n",
       "      <td>1.0</td>\n",
       "    </tr>\n",
       "    <tr>\n",
       "      <th>2</th>\n",
       "      <td>2013-05-01</td>\n",
       "      <td>0</td>\n",
       "      <td>25</td>\n",
       "      <td>2552</td>\n",
       "      <td>899.00</td>\n",
       "      <td>-1.0</td>\n",
       "    </tr>\n",
       "    <tr>\n",
       "      <th>3</th>\n",
       "      <td>2013-06-01</td>\n",
       "      <td>0</td>\n",
       "      <td>25</td>\n",
       "      <td>2554</td>\n",
       "      <td>1709.05</td>\n",
       "      <td>1.0</td>\n",
       "    </tr>\n",
       "    <tr>\n",
       "      <th>4</th>\n",
       "      <td>2013-01-15</td>\n",
       "      <td>0</td>\n",
       "      <td>25</td>\n",
       "      <td>2555</td>\n",
       "      <td>1099.00</td>\n",
       "      <td>1.0</td>\n",
       "    </tr>\n",
       "  </tbody>\n",
       "</table>\n",
       "</div>"
      ]
     },
     "metadata": {},
     "execution_count": 8
    }
   ],
   "metadata": {}
  },
  {
   "cell_type": "code",
   "execution_count": 9,
   "source": [
    "make_cat_name = tr.create_name_transformer(force_category['category'], pattern['category'])\n",
    "make_city_name = tr.create_name_transformer(force_category['shop'], pattern['shop'])"
   ],
   "outputs": [],
   "metadata": {}
  },
  {
   "cell_type": "code",
   "execution_count": 10,
   "source": [
    "data_preprocessing = {}\n",
    "\n",
    "# Add corresponding category and shop id's to each sale\n",
    "data_preprocessing['id_merging_stage'] = lambda dataset: dataset.merge(\n",
    "    items, \n",
    "    on='item_id'\n",
    ").merge(\n",
    "    shops,\n",
    "    on='shop_id'\n",
    ").merge(\n",
    "    categories,\n",
    "    on='item_category_id'\n",
    ")\n",
    "\n",
    "# Add summary among shop_id and category_id above similar time periods (daily intervals)\n",
    "data_preprocessing['summarizing_and_name_merging_stage'] = lambda dataset: dataset.groupby(\n",
    "    ['date', 'date_block_num', 'shop_id', 'item_category_id', 'item_category_name', 'shop_name']\n",
    ").item_cnt_day.sum().reset_index().sort_values('date')\n",
    "\n",
    "data_preprocessing['add_generalized_names_and_encode_stage'] = lambda dataset: tr.append_columns(\n",
    "    dataset=dataset, \n",
    "    columns=[\n",
    "        'global_item_category_name',\n",
    "        'city_name',\n",
    "        'global_item_category_name_id',\n",
    "        'city_id',\n",
    "    ], \n",
    "    transformers=[\n",
    "        lambda _dataset: _dataset[\"item_category_name\"].apply(\n",
    "            make_cat_name\n",
    "        ),\n",
    "        lambda _dataset: _dataset['shop_name'].apply(\n",
    "            make_city_name\n",
    "        ),\n",
    "        lambda _dataset: LabelEncoder().fit_transform(_dataset['global_item_category_name']),\n",
    "        lambda _dataset: LabelEncoder().fit_transform(_dataset['city_name']),\n",
    "    ]\n",
    ")\n",
    "\n",
    "        \n",
    "data_preprocessing['date_block_num_renaming'] = lambda dataset: dataset.rename(columns={'date_block_num': 'month_block'}, inplace=True)\n",
    "        \n",
    "data_preprocessing['date_encoding_stage'] = lambda dataset: tr.append_columns(\n",
    "    dataset=dataset, \n",
    "    columns=[\n",
    "        'week_block',\n",
    "        'day_block',\n",
    "    ], \n",
    "    transformers=[\n",
    "        lambda _dataset: LabelEncoder().fit_transform(_dataset['date'].dt.to_period('W')),\n",
    "        lambda _dataset: LabelEncoder().fit_transform(_dataset['date'].dt.to_period('D')),\n",
    "    ]\n",
    ")\n",
    "\n",
    "data_preprocessing['create_full_matrix_stage'] = lambda _dataset: _dataset.set_index('date') \\\n",
    "    .groupby([\n",
    "        'shop_id',\n",
    "        'item_category_id',\n",
    "        'month_block',\n",
    "        'city_id',\n",
    "        'global_item_category_name_id',\n",
    "        'id'\n",
    "    ]).item_cnt_day.sum() \\\n",
    "    .reset_index().rename(columns={'item_cnt_day': 'item_cnt_month'}) \\\n",
    "    .groupby(['shop_id', 'item_category_id', 'month_block', 'city_id', 'global_item_category_name_id', 'id']).item_cnt_month.sum().reset_index() \\\n",
    "    .groupby(['month_block', 'id']).item_cnt_month.sum().unstack().fillna(0) \\\n",
    "    .stack().reset_index().rename(columns={0:'item_cnt_month'})"
   ],
   "outputs": [],
   "metadata": {}
  },
  {
   "cell_type": "code",
   "execution_count": 11,
   "source": [
    "pipeline = Pipeline(\n",
    "    tasks=data_preprocessing, \n",
    "    task_queue = [\n",
    "        'id_merging_stage',\n",
    "        'summarizing_and_name_merging_stage',\n",
    "        'add_generalized_names_and_encode_stage',\n",
    "        'date_block_num_renaming',\n",
    "        'date_encoding_stage',\n",
    "    ]\n",
    ")"
   ],
   "outputs": [],
   "metadata": {}
  },
  {
   "cell_type": "code",
   "execution_count": 12,
   "source": [
    "pipeline_test = pipeline(sales)\n",
    "pipeline_train = pipeline(sales_train)\n",
    "\n",
    "_ = pipeline_test.proceed_all()\n",
    "_ = pipeline_train.proceed_all()"
   ],
   "outputs": [
    {
     "output_type": "stream",
     "name": "stdout",
     "text": [
      "Stage - id_merging_stage complete\n",
      "Stage - summarizing_and_name_merging_stage complete\n",
      "Stage - add_generalized_names_and_encode_stage complete\n",
      "Stage - date_block_num_renaming complete\n",
      "Stage - date_encoding_stage complete\n",
      "Stage - id_merging_stage complete\n",
      "Stage - summarizing_and_name_merging_stage complete\n",
      "Stage - add_generalized_names_and_encode_stage complete\n",
      "Stage - date_block_num_renaming complete\n",
      "Stage - date_encoding_stage complete\n"
     ]
    }
   ],
   "metadata": {}
  },
  {
   "cell_type": "code",
   "execution_count": 13,
   "source": [
    "task_df = {}\n",
    "\n",
    "task_df['test'] = pipeline_test.result_storage['date_encoding_stage']\n",
    "task_df['train'] = pipeline_train.result_storage['date_encoding_stage']"
   ],
   "outputs": [],
   "metadata": {}
  },
  {
   "cell_type": "code",
   "execution_count": 14,
   "source": [
    "idx = task_df['test'].loc[:,['city_id', 'global_item_category_name_id', 'city_name', 'global_item_category_name']].value_counts().sort_index()\n",
    "idx = pd.DataFrame({'id': [i for i in range(idx.size)]}, idx.index)\n",
    "idx.reset_index(inplace=True)"
   ],
   "outputs": [],
   "metadata": {}
  },
  {
   "cell_type": "code",
   "execution_count": 15,
   "source": [
    "task_df['test'] = task_df['test'].merge(idx, on=['city_id', 'global_item_category_name_id', 'city_name', 'global_item_category_name'])\n",
    "task_df['train'] = task_df['train'].merge(idx, on=['city_id', 'global_item_category_name_id', 'city_name', 'global_item_category_name'])"
   ],
   "outputs": [],
   "metadata": {}
  },
  {
   "cell_type": "code",
   "execution_count": 16,
   "source": [
    "idx['pair_name'] = idx['city_name'] + ' - ' + idx['global_item_category_name']"
   ],
   "outputs": [],
   "metadata": {}
  },
  {
   "cell_type": "code",
   "execution_count": 17,
   "source": [
    "task_df_copy = {}\n",
    "\n",
    "task_df_copy['train'] = task_df['train'].copy()\n",
    "task_df['test']['pair_name'] = task_df['test']['city_name'] + ' - ' + task_df['test']['global_item_category_name']\n",
    "\n",
    "task_df['train'] = data_preprocessing['create_full_matrix_stage'](task_df['train'])"
   ],
   "outputs": [],
   "metadata": {}
  },
  {
   "cell_type": "code",
   "execution_count": 18,
   "source": [
    "task_df['train']"
   ],
   "outputs": [
    {
     "output_type": "execute_result",
     "data": {
      "text/plain": [
       "       month_block   id  item_cnt_month\n",
       "0                0    0            66.0\n",
       "1                0    1             0.0\n",
       "2                0    2            20.0\n",
       "3                0    3           240.0\n",
       "4                0    4           263.0\n",
       "...            ...  ...             ...\n",
       "14887           33  433            87.0\n",
       "14888           33  434            98.0\n",
       "14889           33  435            14.0\n",
       "14890           33  436            12.0\n",
       "14891           33  437             9.0\n",
       "\n",
       "[14892 rows x 3 columns]"
      ],
      "text/html": [
       "<div>\n",
       "<style scoped>\n",
       "    .dataframe tbody tr th:only-of-type {\n",
       "        vertical-align: middle;\n",
       "    }\n",
       "\n",
       "    .dataframe tbody tr th {\n",
       "        vertical-align: top;\n",
       "    }\n",
       "\n",
       "    .dataframe thead th {\n",
       "        text-align: right;\n",
       "    }\n",
       "</style>\n",
       "<table border=\"1\" class=\"dataframe\">\n",
       "  <thead>\n",
       "    <tr style=\"text-align: right;\">\n",
       "      <th></th>\n",
       "      <th>month_block</th>\n",
       "      <th>id</th>\n",
       "      <th>item_cnt_month</th>\n",
       "    </tr>\n",
       "  </thead>\n",
       "  <tbody>\n",
       "    <tr>\n",
       "      <th>0</th>\n",
       "      <td>0</td>\n",
       "      <td>0</td>\n",
       "      <td>66.0</td>\n",
       "    </tr>\n",
       "    <tr>\n",
       "      <th>1</th>\n",
       "      <td>0</td>\n",
       "      <td>1</td>\n",
       "      <td>0.0</td>\n",
       "    </tr>\n",
       "    <tr>\n",
       "      <th>2</th>\n",
       "      <td>0</td>\n",
       "      <td>2</td>\n",
       "      <td>20.0</td>\n",
       "    </tr>\n",
       "    <tr>\n",
       "      <th>3</th>\n",
       "      <td>0</td>\n",
       "      <td>3</td>\n",
       "      <td>240.0</td>\n",
       "    </tr>\n",
       "    <tr>\n",
       "      <th>4</th>\n",
       "      <td>0</td>\n",
       "      <td>4</td>\n",
       "      <td>263.0</td>\n",
       "    </tr>\n",
       "    <tr>\n",
       "      <th>...</th>\n",
       "      <td>...</td>\n",
       "      <td>...</td>\n",
       "      <td>...</td>\n",
       "    </tr>\n",
       "    <tr>\n",
       "      <th>14887</th>\n",
       "      <td>33</td>\n",
       "      <td>433</td>\n",
       "      <td>87.0</td>\n",
       "    </tr>\n",
       "    <tr>\n",
       "      <th>14888</th>\n",
       "      <td>33</td>\n",
       "      <td>434</td>\n",
       "      <td>98.0</td>\n",
       "    </tr>\n",
       "    <tr>\n",
       "      <th>14889</th>\n",
       "      <td>33</td>\n",
       "      <td>435</td>\n",
       "      <td>14.0</td>\n",
       "    </tr>\n",
       "    <tr>\n",
       "      <th>14890</th>\n",
       "      <td>33</td>\n",
       "      <td>436</td>\n",
       "      <td>12.0</td>\n",
       "    </tr>\n",
       "    <tr>\n",
       "      <th>14891</th>\n",
       "      <td>33</td>\n",
       "      <td>437</td>\n",
       "      <td>9.0</td>\n",
       "    </tr>\n",
       "  </tbody>\n",
       "</table>\n",
       "<p>14892 rows × 3 columns</p>\n",
       "</div>"
      ]
     },
     "metadata": {},
     "execution_count": 18
    }
   ],
   "metadata": {}
  },
  {
   "cell_type": "code",
   "execution_count": 19,
   "source": [
    "sample_df = task_df['train'][task_df['train'].id == 3]"
   ],
   "outputs": [],
   "metadata": {}
  },
  {
   "cell_type": "code",
   "execution_count": 20,
   "source": [
    "CONFIG = {\n",
    "    'validation_window': {\n",
    "        'min': 24,\n",
    "        'max': 31,\n",
    "    },\n",
    "    'training_window': {\n",
    "        'min': 16\n",
    "    }\n",
    "}"
   ],
   "outputs": [],
   "metadata": {}
  },
  {
   "cell_type": "code",
   "execution_count": 24,
   "source": [
    "def add_aggregation(feature_set, series, name):\n",
    "    feature_set[name + '_mean'] = series.mean()\n",
    "    feature_set[name + '_std'] = series.std()\n",
    "\n",
    "def target_extractor(month):\n",
    "    return task_df['train'][task_df['train'].month_block == month][['id', 'item_cnt_month']].set_index('id').sort_index()"
   ],
   "outputs": [],
   "metadata": {}
  },
  {
   "cell_type": "code",
   "execution_count": 25,
   "source": [
    "iteration_rule = ExpandedWindowIterator('month_block', target_extractor, min_idx=CONFIG['validation_window']['min'], step=1, max_idx=CONFIG['validation_window']['max'])"
   ],
   "outputs": [],
   "metadata": {}
  },
  {
   "cell_type": "code",
   "execution_count": 26,
   "source": [
    "subset_extractor = EntityIterator('id')"
   ],
   "outputs": [],
   "metadata": {}
  },
  {
   "cell_type": "code",
   "execution_count": 30,
   "source": [
    "def generate_feature_row(split_x, target, window, _id):\n",
    "    \n",
    "    _feature_set = {}\n",
    "    _serieses = {}\n",
    "\n",
    "    _feature_set['window'] = window\n",
    "    _feature_set['id'] = _id\n",
    "\n",
    "    _sale_series = split_x.set_index('month_block').item_cnt_month\n",
    "\n",
    "    _serieses[f'lag_1'] = tr.lag(_sale_series, 1, 0)\n",
    "    _serieses['diff_1'] = tr.diff(_sale_series, 1)\n",
    "    _serieses['diff_2'] = tr.diff(_sale_series, 2)\n",
    "\n",
    "    for i in range(1,13):\n",
    "        _feature_set[f'lag_{i}'] = _serieses['lag_1'].to_list()[-i]\n",
    "\n",
    "    for i in range(1,7):\n",
    "        _feature_set[f'diff_1_{i}'] = _serieses['diff_1'].to_list()[-i]\n",
    "\n",
    "    for i in range(1,7):\n",
    "        _feature_set[f'diff_2_{i}'] = _serieses['diff_2'].to_list()[-i]\n",
    "    \n",
    "    add_aggregation(_feature_set, _sale_series, '')\n",
    "    add_aggregation(_feature_set, _sale_series[-12:], 'last_12')\n",
    "    add_aggregation(_feature_set, _sale_series[-6:], 'last_6')\n",
    "    add_aggregation(_feature_set, _sale_series[-2:], 'last_2')\n",
    "    add_aggregation(_feature_set, _serieses['diff_1'], 'diff_1')\n",
    "    add_aggregation(_feature_set, _serieses['diff_2'], 'diff_2')\n",
    "    add_aggregation(_feature_set, _serieses['diff_1'][-12:], 'diff_1_last_12')\n",
    "    add_aggregation(_feature_set, _serieses['diff_1'][-6:], 'diff_1_last_6')\n",
    "    add_aggregation(_feature_set, _serieses['diff_1'][-2:], 'diff_1_last_2')\n",
    "    _feature_set['last_observed'] = _sale_series.values[-1]\n",
    "    _feature_set['time'] = _sale_series.index[-1]\n",
    "    _feature_set['month_number'] = _feature_set['time'] % 12\n",
    "    _feature_set['target'] = target\n",
    "\n",
    "    return pd.DataFrame(_feature_set.items()).set_index(0).transpose()"
   ],
   "outputs": [],
   "metadata": {}
  },
  {
   "cell_type": "code",
   "execution_count": 31,
   "source": [
    "train = None\n",
    "\n",
    "for window, split_x, split_y in iteration_rule(task_df['train']):\n",
    "    as_list = split_y.item_cnt_month.to_list()\n",
    "    for _id, subset in subset_extractor(split_x):\n",
    "        new_feature = generate_feature_row(subset, as_list[_id], window, _id)\n",
    "        if train is None:\n",
    "            train = new_feature\n",
    "        else:\n",
    "            train.append(new_feature)\n",
    "        "
   ],
   "outputs": [],
   "metadata": {}
  },
  {
   "cell_type": "code",
   "execution_count": 32,
   "source": [
    "train"
   ],
   "outputs": [
    {
     "output_type": "execute_result",
     "data": {
      "text/plain": [
       "0  window   id  lag_1  lag_2  lag_3  lag_4  lag_5  lag_6  lag_7  lag_8  ...  \\\n",
       "1    16.0  0.0   34.0   43.0   75.0   56.0  113.0   34.0   31.0   33.0  ...   \n",
       "\n",
       "0  diff_1_last_12_mean  diff_1_last_12_std  diff_1_last_6_mean  \\\n",
       "1             1.083333           32.497436            0.166667   \n",
       "\n",
       "0  diff_1_last_6_std  diff_1_last_2_mean  diff_1_last_2_std  last_observed  \\\n",
       "1          46.812035                -4.0           7.071068           35.0   \n",
       "\n",
       "0  time  month_number  target  \n",
       "1  16.0           4.0    35.0  \n",
       "\n",
       "[1 rows x 48 columns]"
      ],
      "text/html": [
       "<div>\n",
       "<style scoped>\n",
       "    .dataframe tbody tr th:only-of-type {\n",
       "        vertical-align: middle;\n",
       "    }\n",
       "\n",
       "    .dataframe tbody tr th {\n",
       "        vertical-align: top;\n",
       "    }\n",
       "\n",
       "    .dataframe thead th {\n",
       "        text-align: right;\n",
       "    }\n",
       "</style>\n",
       "<table border=\"1\" class=\"dataframe\">\n",
       "  <thead>\n",
       "    <tr style=\"text-align: right;\">\n",
       "      <th></th>\n",
       "      <th>window</th>\n",
       "      <th>id</th>\n",
       "      <th>lag_1</th>\n",
       "      <th>lag_2</th>\n",
       "      <th>lag_3</th>\n",
       "      <th>lag_4</th>\n",
       "      <th>lag_5</th>\n",
       "      <th>lag_6</th>\n",
       "      <th>lag_7</th>\n",
       "      <th>lag_8</th>\n",
       "      <th>...</th>\n",
       "      <th>diff_1_last_12_mean</th>\n",
       "      <th>diff_1_last_12_std</th>\n",
       "      <th>diff_1_last_6_mean</th>\n",
       "      <th>diff_1_last_6_std</th>\n",
       "      <th>diff_1_last_2_mean</th>\n",
       "      <th>diff_1_last_2_std</th>\n",
       "      <th>last_observed</th>\n",
       "      <th>time</th>\n",
       "      <th>month_number</th>\n",
       "      <th>target</th>\n",
       "    </tr>\n",
       "  </thead>\n",
       "  <tbody>\n",
       "    <tr>\n",
       "      <th>1</th>\n",
       "      <td>16.0</td>\n",
       "      <td>0.0</td>\n",
       "      <td>34.0</td>\n",
       "      <td>43.0</td>\n",
       "      <td>75.0</td>\n",
       "      <td>56.0</td>\n",
       "      <td>113.0</td>\n",
       "      <td>34.0</td>\n",
       "      <td>31.0</td>\n",
       "      <td>33.0</td>\n",
       "      <td>...</td>\n",
       "      <td>1.083333</td>\n",
       "      <td>32.497436</td>\n",
       "      <td>0.166667</td>\n",
       "      <td>46.812035</td>\n",
       "      <td>-4.0</td>\n",
       "      <td>7.071068</td>\n",
       "      <td>35.0</td>\n",
       "      <td>16.0</td>\n",
       "      <td>4.0</td>\n",
       "      <td>35.0</td>\n",
       "    </tr>\n",
       "  </tbody>\n",
       "</table>\n",
       "<p>1 rows × 48 columns</p>\n",
       "</div>"
      ]
     },
     "metadata": {},
     "execution_count": 32
    }
   ],
   "metadata": {}
  }
 ],
 "metadata": {
  "kernelspec": {
   "name": "python3",
   "display_name": "Python 3.8.8 64-bit ('base': conda)"
  },
  "language_info": {
   "codemirror_mode": {
    "name": "ipython",
    "version": 3
   },
   "file_extension": ".py",
   "mimetype": "text/x-python",
   "name": "python",
   "nbconvert_exporter": "python",
   "pygments_lexer": "ipython3",
   "version": "3.8.8"
  },
  "interpreter": {
   "hash": "ee9e506adb4a3f7fa64fd7b78d744fa60d5969384b878b630c76f52692fa2851"
  }
 },
 "nbformat": 4,
 "nbformat_minor": 5
}